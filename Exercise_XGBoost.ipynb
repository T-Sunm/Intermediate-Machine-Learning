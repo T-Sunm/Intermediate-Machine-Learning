{
  "metadata": {
    "kernelspec": {
      "display_name": "Python 3",
      "language": "python",
      "name": "python3"
    },
    "language_info": {
      "name": "python",
      "version": "3.10.14",
      "mimetype": "text/x-python",
      "codemirror_mode": {
        "name": "ipython",
        "version": 3
      },
      "pygments_lexer": "ipython3",
      "nbconvert_exporter": "python",
      "file_extension": ".py"
    },
    "kaggle": {
      "accelerator": "none",
      "dataSources": [
        {
          "sourceId": 10211,
          "databundleVersionId": 111096,
          "sourceType": "competition"
        }
      ],
      "isInternetEnabled": false,
      "language": "python",
      "sourceType": "notebook",
      "isGpuEnabled": false
    },
    "colab": {
      "name": "Exercise: XGBoost",
      "provenance": [],
      "include_colab_link": true
    }
  },
  "nbformat_minor": 0,
  "nbformat": 4,
  "cells": [
    {
      "cell_type": "markdown",
      "metadata": {
        "id": "view-in-github",
        "colab_type": "text"
      },
      "source": [
        "<a href=\"https://colab.research.google.com/github/T-Sunm/Intermediate-Machine-Learning-Kaggle/blob/main/Exercise_XGBoost.ipynb\" target=\"_parent\"><img src=\"https://colab.research.google.com/assets/colab-badge.svg\" alt=\"Open In Colab\"/></a>"
      ]
    },
    {
      "source": [
        "\n",
        "# IMPORTANT: RUN THIS CELL IN ORDER TO IMPORT YOUR KAGGLE DATA SOURCES\n",
        "# TO THE CORRECT LOCATION (/kaggle/input) IN YOUR NOTEBOOK,\n",
        "# THEN FEEL FREE TO DELETE THIS CELL.\n",
        "# NOTE: THIS NOTEBOOK ENVIRONMENT DIFFERS FROM KAGGLE'S PYTHON\n",
        "# ENVIRONMENT SO THERE MAY BE MISSING LIBRARIES USED BY YOUR\n",
        "# NOTEBOOK.\n",
        "\n",
        "import os\n",
        "import sys\n",
        "from tempfile import NamedTemporaryFile\n",
        "from urllib.request import urlopen\n",
        "from urllib.parse import unquote, urlparse\n",
        "from urllib.error import HTTPError\n",
        "from zipfile import ZipFile\n",
        "import tarfile\n",
        "import shutil\n",
        "\n",
        "CHUNK_SIZE = 40960\n",
        "DATA_SOURCE_MAPPING = ':https%3A%2F%2Fstorage.googleapis.com%2Fkaggle-competitions-data%2Fkaggle-v2%2F10211%2F111096%2Fbundle%2Farchive.zip%3FX-Goog-Algorithm%3DGOOG4-RSA-SHA256%26X-Goog-Credential%3Dgcp-kaggle-com%2540kaggle-161607.iam.gserviceaccount.com%252F20241007%252Fauto%252Fstorage%252Fgoog4_request%26X-Goog-Date%3D20241007T140508Z%26X-Goog-Expires%3D259200%26X-Goog-SignedHeaders%3Dhost%26X-Goog-Signature%3D972611d9e8f2895c1966e8fc8778569ffc6324e1d26a43cc011c584dc32d882a574cb178b4a7de4c006640f783361bfcae0a70bea133b18b6f6a33a1e409cf33f530f3acf6084cc8593dc76ec34bf3435f3e9085b502fb7d782c4dbb9dd5521cddb3486a1d23ebeb45e3822c7e7b282ef46287e04607a751140c168f19a747a8d903c9848ba350f919142feee38696bdc5dc90d89caaf001617164f6afd1488bc13c3c0bcd64bfa4f0d2dd2e1fc13989037c21a2506a7947f67fd828fae25e1a05e74fb83c0c60f5856f641eb24e7e933f9bdf381345e64d388c853b73ee35887239be9004e6755c7e24cb98b5b90dc35b119e7dcd9332a12953cf433ec08f2d'\n",
        "\n",
        "KAGGLE_INPUT_PATH='/kaggle/input'\n",
        "KAGGLE_WORKING_PATH='/kaggle/working'\n",
        "KAGGLE_SYMLINK='kaggle'\n",
        "\n",
        "!umount /kaggle/input/ 2> /dev/null\n",
        "shutil.rmtree('/kaggle/input', ignore_errors=True)\n",
        "os.makedirs(KAGGLE_INPUT_PATH, 0o777, exist_ok=True)\n",
        "os.makedirs(KAGGLE_WORKING_PATH, 0o777, exist_ok=True)\n",
        "\n",
        "try:\n",
        "  os.symlink(KAGGLE_INPUT_PATH, os.path.join(\"..\", 'input'), target_is_directory=True)\n",
        "except FileExistsError:\n",
        "  pass\n",
        "try:\n",
        "  os.symlink(KAGGLE_WORKING_PATH, os.path.join(\"..\", 'working'), target_is_directory=True)\n",
        "except FileExistsError:\n",
        "  pass\n",
        "\n",
        "for data_source_mapping in DATA_SOURCE_MAPPING.split(','):\n",
        "    directory, download_url_encoded = data_source_mapping.split(':')\n",
        "    download_url = unquote(download_url_encoded)\n",
        "    filename = urlparse(download_url).path\n",
        "    destination_path = os.path.join(KAGGLE_INPUT_PATH, directory)\n",
        "    try:\n",
        "        with urlopen(download_url) as fileres, NamedTemporaryFile() as tfile:\n",
        "            total_length = fileres.headers['content-length']\n",
        "            print(f'Downloading {directory}, {total_length} bytes compressed')\n",
        "            dl = 0\n",
        "            data = fileres.read(CHUNK_SIZE)\n",
        "            while len(data) > 0:\n",
        "                dl += len(data)\n",
        "                tfile.write(data)\n",
        "                done = int(50 * dl / int(total_length))\n",
        "                sys.stdout.write(f\"\\r[{'=' * done}{' ' * (50-done)}] {dl} bytes downloaded\")\n",
        "                sys.stdout.flush()\n",
        "                data = fileres.read(CHUNK_SIZE)\n",
        "            if filename.endswith('.zip'):\n",
        "              with ZipFile(tfile) as zfile:\n",
        "                zfile.extractall(destination_path)\n",
        "            else:\n",
        "              with tarfile.open(tfile.name) as tarfile:\n",
        "                tarfile.extractall(destination_path)\n",
        "            print(f'\\nDownloaded and uncompressed: {directory}')\n",
        "    except HTTPError as e:\n",
        "        print(f'Failed to load (likely expired) {download_url} to path {destination_path}')\n",
        "        continue\n",
        "    except OSError as e:\n",
        "        print(f'Failed to load {download_url} to path {destination_path}')\n",
        "        continue\n",
        "\n",
        "print('Data source import complete.')\n"
      ],
      "metadata": {
        "id": "IqaJ7C7-TFJH"
      },
      "cell_type": "code",
      "outputs": [],
      "execution_count": null
    },
    {
      "cell_type": "markdown",
      "source": [
        "**This notebook is an exercise in the [Intermediate Machine Learning](https://www.kaggle.com/learn/intermediate-machine-learning) course.  You can reference the tutorial at [this link](https://www.kaggle.com/alexisbcook/xgboost).**\n",
        "\n",
        "---\n"
      ],
      "metadata": {
        "id": "L31ravJnTFJI"
      }
    },
    {
      "cell_type": "markdown",
      "source": [
        "In this exercise, you will use your new knowledge to train a model with **gradient boosting**.\n",
        "\n",
        "# Setup\n",
        "\n",
        "The questions below will give you feedback on your work. Run the following cell to set up the feedback system."
      ],
      "metadata": {
        "id": "LlLawKzxTFJI"
      }
    },
    {
      "cell_type": "code",
      "source": [
        "# Set up code checking\n",
        "import os\n",
        "if not os.path.exists(\"../input/train.csv\"):\n",
        "    os.symlink(\"../input/home-data-for-ml-course/train.csv\", \"../input/train.csv\")\n",
        "    os.symlink(\"../input/home-data-for-ml-course/test.csv\", \"../input/test.csv\")\n",
        "from learntools.core import binder\n",
        "binder.bind(globals())\n",
        "from learntools.ml_intermediate.ex6 import *\n",
        "print(\"Setup Complete\")"
      ],
      "metadata": {
        "execution": {
          "iopub.status.busy": "2024-09-29T04:00:01.60202Z",
          "iopub.execute_input": "2024-09-29T04:00:01.602529Z",
          "iopub.status.idle": "2024-09-29T04:00:07.632335Z",
          "shell.execute_reply.started": "2024-09-29T04:00:01.602485Z",
          "shell.execute_reply": "2024-09-29T04:00:07.63073Z"
        },
        "trusted": true,
        "id": "bvJH01ZVTFJJ"
      },
      "execution_count": null,
      "outputs": []
    },
    {
      "cell_type": "markdown",
      "source": [
        "You will work with the [Housing Prices Competition for Kaggle Learn Users](https://www.kaggle.com/c/home-data-for-ml-course) dataset from the previous exercise.\n",
        "\n",
        "![Ames Housing dataset image](https://storage.googleapis.com/kaggle-media/learn/images/lTJVG4e.png)\n",
        "\n",
        "Run the next code cell without changes to load the training and validation sets in `X_train`, `X_valid`, `y_train`, and `y_valid`.  The test set is loaded in `X_test`."
      ],
      "metadata": {
        "id": "u4mUHpPPTFJJ"
      }
    },
    {
      "cell_type": "code",
      "source": [
        "import pandas as pd\n",
        "from sklearn.model_selection import train_test_split\n",
        "\n",
        "# Read the data\n",
        "X = pd.read_csv('../input/train.csv', index_col='Id')\n",
        "X_test_full = pd.read_csv('../input/test.csv', index_col='Id')\n",
        "\n",
        "# Remove rows with missing target, separate target from predictors\n",
        "X.dropna(axis=0, subset=['SalePrice'], inplace=True)\n",
        "y = X.SalePrice\n",
        "X.drop(['SalePrice'], axis=1, inplace=True)\n",
        "\n",
        "# Break off validation set from training data\n",
        "X_train_full, X_valid_full, y_train, y_valid = train_test_split(X, y, train_size=0.8, test_size=0.2,\n",
        "                                                                random_state=0)\n",
        "\n",
        "# \"Cardinality\" means the number of unique values in a column\n",
        "# Select categorical columns with relatively low cardinality (convenient but arbitrary)\n",
        "low_cardinality_cols = [cname for cname in X_train_full.columns if X_train_full[cname].nunique() < 10 and\n",
        "                        X_train_full[cname].dtype == \"object\"]\n",
        "\n",
        "# Select numeric columns\n",
        "numeric_cols = [cname for cname in X_train_full.columns if X_train_full[cname].dtype in ['int64', 'float64']]\n",
        "\n",
        "# Keep selected columns only\n",
        "my_cols = low_cardinality_cols + numeric_cols\n",
        "X_train = X_train_full[my_cols].copy()\n",
        "X_valid = X_valid_full[my_cols].copy()\n",
        "X_test = X_test_full[my_cols].copy()\n",
        "\n",
        "# One-hot encode the data (to shorten the code, we use pandas)\n",
        "X_train = pd.get_dummies(X_train)\n",
        "X_valid = pd.get_dummies(X_valid)\n",
        "X_test = pd.get_dummies(X_test)\n",
        "X_train, X_valid = X_train.align(X_valid, join='left', axis=1)\n",
        "X_train, X_test = X_train.align(X_test, join='left', axis=1)"
      ],
      "metadata": {
        "execution": {
          "iopub.status.busy": "2024-09-29T04:01:40.451739Z",
          "iopub.execute_input": "2024-09-29T04:01:40.452302Z",
          "iopub.status.idle": "2024-09-29T04:01:40.669571Z",
          "shell.execute_reply.started": "2024-09-29T04:01:40.452253Z",
          "shell.execute_reply": "2024-09-29T04:01:40.667839Z"
        },
        "trusted": true,
        "id": "WlP6Qm7pTFJJ"
      },
      "execution_count": null,
      "outputs": []
    },
    {
      "cell_type": "markdown",
      "source": [
        "# Step 1: Build model\n",
        "\n",
        "### Part A\n",
        "\n",
        "In this step, you'll build and train your first model with gradient boosting.\n",
        "\n",
        "- Begin by setting `my_model_1` to an XGBoost model.  Use the [XGBRegressor](https://xgboost.readthedocs.io/en/latest/python/python_api.html#xgboost.XGBRegressor) class, and set the random seed to 0 (`random_state=0`).  **Leave all other parameters as default.**\n",
        "- Then, fit the model to the training data in `X_train` and `y_train`."
      ],
      "metadata": {
        "id": "aOg5DCvgTFJJ"
      }
    },
    {
      "cell_type": "code",
      "source": [
        "from xgboost import XGBRegressor\n",
        "\n",
        "# Define the model\n",
        "my_model_1 = XGBRegressor(random_state = 0)\n",
        "\n",
        "# Fit the model\n",
        "my_model_1.fit(X_train, y_train)\n",
        "\n",
        "# Check your answer\n",
        "step_1.a.check()"
      ],
      "metadata": {
        "execution": {
          "iopub.status.busy": "2024-09-29T04:09:26.519667Z",
          "iopub.execute_input": "2024-09-29T04:09:26.520223Z",
          "iopub.status.idle": "2024-09-29T04:09:27.10995Z",
          "shell.execute_reply.started": "2024-09-29T04:09:26.520176Z",
          "shell.execute_reply": "2024-09-29T04:09:27.108728Z"
        },
        "trusted": true,
        "id": "2dbuiQSVTFJK"
      },
      "execution_count": null,
      "outputs": []
    },
    {
      "cell_type": "code",
      "source": [
        "# Lines below will give you a hint or solution code\n",
        "#step_1.a.hint()\n",
        "#step_1.a.solution()"
      ],
      "metadata": {
        "id": "K0UM8cZjTFJK"
      },
      "execution_count": null,
      "outputs": []
    },
    {
      "cell_type": "markdown",
      "source": [
        "### Part B\n",
        "\n",
        "Set `predictions_1` to the model's predictions for the validation data.  Recall that the validation features are stored in `X_valid`."
      ],
      "metadata": {
        "id": "scMKabsaTFJK"
      }
    },
    {
      "cell_type": "code",
      "source": [
        "from sklearn.metrics import mean_absolute_error\n",
        "\n",
        "# Get predictions\n",
        "predictions_1 = my_model_1.predict(X_valid)\n",
        "\n",
        "# Check your answer\n",
        "step_1.b.check()"
      ],
      "metadata": {
        "execution": {
          "iopub.status.busy": "2024-09-29T04:10:09.412233Z",
          "iopub.execute_input": "2024-09-29T04:10:09.412801Z",
          "iopub.status.idle": "2024-09-29T04:10:09.477335Z",
          "shell.execute_reply.started": "2024-09-29T04:10:09.412753Z",
          "shell.execute_reply": "2024-09-29T04:10:09.476379Z"
        },
        "trusted": true,
        "id": "Lexg7ZsqTFJK"
      },
      "execution_count": null,
      "outputs": []
    },
    {
      "cell_type": "code",
      "source": [
        "# Lines below will give you a hint or solution code\n",
        "#step_1.b.hint()\n",
        "#step_1.b.solution()"
      ],
      "metadata": {
        "id": "dzHfd799TFJK"
      },
      "execution_count": null,
      "outputs": []
    },
    {
      "cell_type": "markdown",
      "source": [
        "### Part C\n",
        "\n",
        "Finally, use the `mean_absolute_error()` function to calculate the mean absolute error (MAE) corresponding to the predictions for the validation set.  Recall that the labels for the validation data are stored in `y_valid`."
      ],
      "metadata": {
        "id": "8j-vg9KLTFJL"
      }
    },
    {
      "cell_type": "code",
      "source": [
        "# Calculate MAE\n",
        "mae_1 = mean_absolute_error(y_valid, predictions_1) # Your code here\n",
        "\n",
        "# Uncomment to print MAE\n",
        "print(\"Mean Absolute Error:\" , mae_1)\n",
        "\n",
        "# Check your answer\n",
        "step_1.c.check()"
      ],
      "metadata": {
        "execution": {
          "iopub.status.busy": "2024-09-29T04:10:52.132188Z",
          "iopub.execute_input": "2024-09-29T04:10:52.13274Z",
          "iopub.status.idle": "2024-09-29T04:10:52.147175Z",
          "shell.execute_reply.started": "2024-09-29T04:10:52.132696Z",
          "shell.execute_reply": "2024-09-29T04:10:52.145733Z"
        },
        "trusted": true,
        "id": "vWnK8qrcTFJL"
      },
      "execution_count": null,
      "outputs": []
    },
    {
      "cell_type": "code",
      "source": [
        "# Lines below will give you a hint or solution code\n",
        "#step_1.c.hint()\n",
        "#step_1.c.solution()"
      ],
      "metadata": {
        "id": "VsG943lVTFJL"
      },
      "execution_count": null,
      "outputs": []
    },
    {
      "cell_type": "markdown",
      "source": [
        "# Step 2: Improve the model\n",
        "\n",
        "Now that you've trained a default model as baseline, it's time to tinker with the parameters, to see if you can get better performance!\n",
        "- Begin by setting `my_model_2` to an XGBoost model, using the [XGBRegressor](https://xgboost.readthedocs.io/en/latest/python/python_api.html#xgboost.XGBRegressor) class.  Use what you learned in the previous tutorial to figure out how to change the default parameters (like `n_estimators` and `learning_rate`) to get better results.\n",
        "- Then, fit the model to the training data in `X_train` and `y_train`.\n",
        "- Set `predictions_2` to the model's predictions for the validation data.  Recall that the validation features are stored in `X_valid`.\n",
        "- Finally, use the `mean_absolute_error()` function to calculate the mean absolute error (MAE) corresponding to the predictions on the validation set.  Recall that the labels for the validation data are stored in `y_valid`.\n",
        "\n",
        "In order for this step to be marked correct, your model in `my_model_2` must attain lower MAE than the model in `my_model_1`."
      ],
      "metadata": {
        "id": "aLS7vtemTFJL"
      }
    },
    {
      "cell_type": "code",
      "source": [
        "# Define the model\n",
        "my_model_2 = XGBRegressor(n_estimators=1000, learning_rate=0.05, n_jobs=4)\n",
        "\n",
        "# Fit the model\n",
        "my_model_2.fit(X_train, y_train,\n",
        "             early_stopping_rounds=5,\n",
        "             eval_set=[(X_valid, y_valid)],\n",
        "             verbose=False)\n",
        "\n",
        "# Get predictions\n",
        "predictions_2 = my_model_2.predict(X_valid)\n",
        "\n",
        "# Calculate MAE\n",
        "mae_2 = mean_absolute_error(y_valid, predictions_2)\n",
        "\n",
        "# Uncomment to print MAE\n",
        "print(\"Mean Absolute Error:\" , mae_2)\n",
        "\n",
        "# Check your answer\n",
        "step_2.check()"
      ],
      "metadata": {
        "execution": {
          "iopub.status.busy": "2024-09-29T04:17:09.054224Z",
          "iopub.execute_input": "2024-09-29T04:17:09.054722Z",
          "iopub.status.idle": "2024-09-29T04:17:10.76059Z",
          "shell.execute_reply.started": "2024-09-29T04:17:09.054671Z",
          "shell.execute_reply": "2024-09-29T04:17:10.759159Z"
        },
        "trusted": true,
        "id": "bPK5RSRwTFJL"
      },
      "execution_count": null,
      "outputs": []
    },
    {
      "cell_type": "code",
      "source": [
        "# Lines below will give you a hint or solution code\n",
        "#step_2.hint()\n",
        "#step_2.solution()"
      ],
      "metadata": {
        "id": "GluZ0ygcTFJL"
      },
      "execution_count": null,
      "outputs": []
    },
    {
      "cell_type": "markdown",
      "source": [
        "# Step 3: Break the model\n",
        "\n",
        "In this step, you will create a model that performs worse than the original model in Step 1.  This will help you to develop your intuition for how to set parameters.  You might even find that you accidentally get better performance, which is ultimately a nice problem to have and a valuable learning experience!\n",
        "- Begin by setting `my_model_3` to an XGBoost model, using the [XGBRegressor](https://xgboost.readthedocs.io/en/latest/python/python_api.html#xgboost.XGBRegressor) class.  Use what you learned in the previous tutorial to figure out how to change the default parameters (like `n_estimators` and `learning_rate`) to design a model to get high MAE.\n",
        "- Then, fit the model to the training data in `X_train` and `y_train`.\n",
        "- Set `predictions_3` to the model's predictions for the validation data.  Recall that the validation features are stored in `X_valid`.\n",
        "- Finally, use the `mean_absolute_error()` function to calculate the mean absolute error (MAE) corresponding to the predictions on the validation set.  Recall that the labels for the validation data are stored in `y_valid`.\n",
        "\n",
        "In order for this step to be marked correct, your model in `my_model_3` must attain higher MAE than the model in `my_model_1`."
      ],
      "metadata": {
        "id": "PKCEr-ZpTFJL"
      }
    },
    {
      "cell_type": "code",
      "source": [
        "# Define the model\n",
        "my_model_3 = XGBRegressor(n_estimators=1000, learning_rate=1, n_jobs=4)\n",
        "\n",
        "# Fit the model\n",
        "# Fit the model\n",
        "my_model_3.fit(X_train, y_train,\n",
        "             early_stopping_rounds=5,\n",
        "             eval_set=[(X_valid, y_valid)],\n",
        "             verbose=False)\n",
        "\n",
        "# Get predictions\n",
        "predictions_3 = my_model_3.predict(X_valid)\n",
        "\n",
        "# Calculate MAE\n",
        "mae_3 = mean_absolute_error(y_valid, predictions_3)\n",
        "\n",
        "# Uncomment to print MAE\n",
        "print(\"Mean Absolute Error:\" , mae_3)\n",
        "\n",
        "# Check your answer\n",
        "step_3.check()"
      ],
      "metadata": {
        "execution": {
          "iopub.status.busy": "2024-09-29T04:22:43.544439Z",
          "iopub.execute_input": "2024-09-29T04:22:43.544945Z",
          "iopub.status.idle": "2024-09-29T04:22:43.894154Z",
          "shell.execute_reply.started": "2024-09-29T04:22:43.544902Z",
          "shell.execute_reply": "2024-09-29T04:22:43.892562Z"
        },
        "trusted": true,
        "id": "4CMGgEFaTFJL"
      },
      "execution_count": null,
      "outputs": []
    },
    {
      "cell_type": "code",
      "source": [
        "# Lines below will give you a hint or solution code\n",
        "#step_3.hint()\n",
        "#step_3.solution()"
      ],
      "metadata": {
        "id": "ZNqJpxUsTFJL"
      },
      "execution_count": null,
      "outputs": []
    },
    {
      "cell_type": "markdown",
      "source": [
        "# Keep going\n",
        "\n",
        "Continue to learn about **[data leakage](https://www.kaggle.com/alexisbcook/data-leakage)**.  This is an important issue for a data scientist to understand, and it has the potential to ruin your models in subtle and dangerous ways!"
      ],
      "metadata": {
        "id": "luFVQFtpTFJM"
      }
    },
    {
      "cell_type": "markdown",
      "source": [
        "---\n",
        "\n",
        "\n",
        "\n",
        "\n",
        "*Have questions or comments? Visit the [course discussion forum](https://www.kaggle.com/learn/intermediate-machine-learning/discussion) to chat with other learners.*"
      ],
      "metadata": {
        "id": "-5bg5j0sTFJM"
      }
    }
  ]
}