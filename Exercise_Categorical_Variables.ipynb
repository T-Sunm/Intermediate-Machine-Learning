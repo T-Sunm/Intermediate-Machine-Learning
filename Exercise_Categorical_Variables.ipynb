{
  "metadata": {
    "kernelspec": {
      "name": "python3",
      "display_name": "Python 3",
      "language": "python"
    },
    "language_info": {
      "name": "python",
      "version": "3.10.14",
      "mimetype": "text/x-python",
      "codemirror_mode": {
        "name": "ipython",
        "version": 3
      },
      "pygments_lexer": "ipython3",
      "nbconvert_exporter": "python",
      "file_extension": ".py"
    },
    "kaggle": {
      "accelerator": "none",
      "dataSources": [
        {
          "sourceId": 10211,
          "databundleVersionId": 111096,
          "sourceType": "competition"
        }
      ],
      "isInternetEnabled": false,
      "language": "python",
      "sourceType": "notebook",
      "isGpuEnabled": false
    },
    "colab": {
      "name": "Exercise: Categorical Variables",
      "provenance": [],
      "include_colab_link": true
    }
  },
  "nbformat_minor": 0,
  "nbformat": 4,
  "cells": [
    {
      "cell_type": "markdown",
      "metadata": {
        "id": "view-in-github",
        "colab_type": "text"
      },
      "source": [
        "<a href=\"https://colab.research.google.com/github/T-Sunm/Intermediate-Machine-Learning-Kaggle/blob/main/Exercise_Categorical_Variables.ipynb\" target=\"_parent\"><img src=\"https://colab.research.google.com/assets/colab-badge.svg\" alt=\"Open In Colab\"/></a>"
      ]
    },
    {
      "source": [
        "\n",
        "# IMPORTANT: RUN THIS CELL IN ORDER TO IMPORT YOUR KAGGLE DATA SOURCES\n",
        "# TO THE CORRECT LOCATION (/kaggle/input) IN YOUR NOTEBOOK,\n",
        "# THEN FEEL FREE TO DELETE THIS CELL.\n",
        "# NOTE: THIS NOTEBOOK ENVIRONMENT DIFFERS FROM KAGGLE'S PYTHON\n",
        "# ENVIRONMENT SO THERE MAY BE MISSING LIBRARIES USED BY YOUR\n",
        "# NOTEBOOK.\n",
        "\n",
        "import os\n",
        "import sys\n",
        "from tempfile import NamedTemporaryFile\n",
        "from urllib.request import urlopen\n",
        "from urllib.parse import unquote, urlparse\n",
        "from urllib.error import HTTPError\n",
        "from zipfile import ZipFile\n",
        "import tarfile\n",
        "import shutil\n",
        "\n",
        "CHUNK_SIZE = 40960\n",
        "DATA_SOURCE_MAPPING = ':https%3A%2F%2Fstorage.googleapis.com%2Fkaggle-competitions-data%2Fkaggle-v2%2F10211%2F111096%2Fbundle%2Farchive.zip%3FX-Goog-Algorithm%3DGOOG4-RSA-SHA256%26X-Goog-Credential%3Dgcp-kaggle-com%2540kaggle-161607.iam.gserviceaccount.com%252F20240930%252Fauto%252Fstorage%252Fgoog4_request%26X-Goog-Date%3D20240930T164217Z%26X-Goog-Expires%3D259200%26X-Goog-SignedHeaders%3Dhost%26X-Goog-Signature%3Da33e0b0b5586919422fb0ca39a858d5aece38f500774e7ad1dc995b9955d2cbe14697ff61ff67176d6a83d8070f61995fcf2110548bdbceedb24f93ff7ca2291a1ad81dae8417ca9231955d322b91a42ee5d4ccd19c9837a0c42eab4885e21a429934a7ff1188f05e477a2bd2f7e3128946d8d6b5e61df3855c782b9b350a96fa0f9d668c4814eb57a8812687a18f594c68959faa4e2c31e3e3294f1626690ae51c8bfdd67c7c3ef1f45de794d705373ad2406170abd1be5915c6f5c62e59086b734dc60f33d7a018ec22d91fd63f761209345e146443840a64102d43736f5138be0e784b3c90827bfd764d94fe1060f0c599e31cdb989b934dc630e21d2c727'\n",
        "\n",
        "KAGGLE_INPUT_PATH='/kaggle/input'\n",
        "KAGGLE_WORKING_PATH='/kaggle/working'\n",
        "KAGGLE_SYMLINK='kaggle'\n",
        "\n",
        "!umount /kaggle/input/ 2> /dev/null\n",
        "shutil.rmtree('/kaggle/input', ignore_errors=True)\n",
        "os.makedirs(KAGGLE_INPUT_PATH, 0o777, exist_ok=True)\n",
        "os.makedirs(KAGGLE_WORKING_PATH, 0o777, exist_ok=True)\n",
        "\n",
        "try:\n",
        "  os.symlink(KAGGLE_INPUT_PATH, os.path.join(\"..\", 'input'), target_is_directory=True)\n",
        "except FileExistsError:\n",
        "  pass\n",
        "try:\n",
        "  os.symlink(KAGGLE_WORKING_PATH, os.path.join(\"..\", 'working'), target_is_directory=True)\n",
        "except FileExistsError:\n",
        "  pass\n",
        "\n",
        "for data_source_mapping in DATA_SOURCE_MAPPING.split(','):\n",
        "    directory, download_url_encoded = data_source_mapping.split(':')\n",
        "    download_url = unquote(download_url_encoded)\n",
        "    filename = urlparse(download_url).path\n",
        "    destination_path = os.path.join(KAGGLE_INPUT_PATH, directory)\n",
        "    try:\n",
        "        with urlopen(download_url) as fileres, NamedTemporaryFile() as tfile:\n",
        "            total_length = fileres.headers['content-length']\n",
        "            print(f'Downloading {directory}, {total_length} bytes compressed')\n",
        "            dl = 0\n",
        "            data = fileres.read(CHUNK_SIZE)\n",
        "            while len(data) > 0:\n",
        "                dl += len(data)\n",
        "                tfile.write(data)\n",
        "                done = int(50 * dl / int(total_length))\n",
        "                sys.stdout.write(f\"\\r[{'=' * done}{' ' * (50-done)}] {dl} bytes downloaded\")\n",
        "                sys.stdout.flush()\n",
        "                data = fileres.read(CHUNK_SIZE)\n",
        "            if filename.endswith('.zip'):\n",
        "              with ZipFile(tfile) as zfile:\n",
        "                zfile.extractall(destination_path)\n",
        "            else:\n",
        "              with tarfile.open(tfile.name) as tarfile:\n",
        "                tarfile.extractall(destination_path)\n",
        "            print(f'\\nDownloaded and uncompressed: {directory}')\n",
        "    except HTTPError as e:\n",
        "        print(f'Failed to load (likely expired) {download_url} to path {destination_path}')\n",
        "        continue\n",
        "    except OSError as e:\n",
        "        print(f'Failed to load {download_url} to path {destination_path}')\n",
        "        continue\n",
        "\n",
        "print('Data source import complete.')\n"
      ],
      "metadata": {
        "id": "BVLrrQLjz7Vc"
      },
      "cell_type": "code",
      "outputs": [],
      "execution_count": null
    },
    {
      "cell_type": "markdown",
      "source": [
        "**This notebook is an exercise in the [Intermediate Machine Learning](https://www.kaggle.com/learn/intermediate-machine-learning) course.  You can reference the tutorial at [this link](https://www.kaggle.com/alexisbcook/categorical-variables).**\n",
        "\n",
        "---\n"
      ],
      "metadata": {
        "id": "PY2gIvDHz7Vd"
      }
    },
    {
      "cell_type": "markdown",
      "source": [
        "By encoding **categorical variables**, you'll obtain your best results thus far!\n",
        "\n",
        "# Setup\n",
        "\n",
        "The questions below will give you feedback on your work. Run the following cell to set up the feedback system."
      ],
      "metadata": {
        "id": "ovjCAWzPz7Ve"
      }
    },
    {
      "cell_type": "code",
      "source": [
        "# Set up code checking\n",
        "import os\n",
        "if not os.path.exists(\"../input/train.csv\"):\n",
        "    os.symlink(\"../input/home-data-for-ml-course/train.csv\", \"../input/train.csv\")\n",
        "    os.symlink(\"../input/home-data-for-ml-course/test.csv\", \"../input/test.csv\")\n",
        "from learntools.core import binder\n",
        "binder.bind(globals())\n",
        "from learntools.ml_intermediate.ex3 import *\n",
        "print(\"Setup Complete\")"
      ],
      "metadata": {
        "execution": {
          "iopub.status.busy": "2024-09-27T17:06:16.711105Z",
          "iopub.execute_input": "2024-09-27T17:06:16.711689Z",
          "iopub.status.idle": "2024-09-27T17:06:16.72257Z",
          "shell.execute_reply.started": "2024-09-27T17:06:16.711639Z",
          "shell.execute_reply": "2024-09-27T17:06:16.720895Z"
        },
        "trusted": true,
        "id": "bZ6FIiCzz7Ve"
      },
      "execution_count": null,
      "outputs": []
    },
    {
      "cell_type": "markdown",
      "source": [
        "In this exercise, you will work with data from the [Housing Prices Competition for Kaggle Learn Users](https://www.kaggle.com/c/home-data-for-ml-course).\n",
        "\n",
        "![Ames Housing dataset image](https://storage.googleapis.com/kaggle-media/learn/images/lTJVG4e.png)\n",
        "\n",
        "Run the next code cell without changes to load the training and validation sets in `X_train`, `X_valid`, `y_train`, and `y_valid`.  The test set is loaded in `X_test`."
      ],
      "metadata": {
        "id": "HxO7Gj-cz7Ve"
      }
    },
    {
      "cell_type": "code",
      "source": [
        "import pandas as pd\n",
        "from sklearn.model_selection import train_test_split\n",
        "\n",
        "# Read the data\n",
        "X = pd.read_csv('../input/train.csv', index_col='Id')\n",
        "X_test = pd.read_csv('../input/test.csv', index_col='Id')\n",
        "\n",
        "# Remove rows with missing target, separate target from predictors\n",
        "X.dropna(axis=0, subset=['SalePrice'], inplace=True)\n",
        "y = X.SalePrice\n",
        "X.drop(['SalePrice'], axis=1, inplace=True)\n",
        "\n",
        "# To keep things simple, we'll drop columns with missing values\n",
        "cols_with_missing = [col for col in X.columns if X[col].isnull().any()]\n",
        "X.drop(cols_with_missing, axis=1, inplace=True)\n",
        "X_test.drop(cols_with_missing, axis=1, inplace=True)\n",
        "\n",
        "# Break off validation set from training data\n",
        "X_train, X_valid, y_train, y_valid = train_test_split(X, y,\n",
        "                                                      train_size=0.8, test_size=0.2,\n",
        "                                                      random_state=0)"
      ],
      "metadata": {
        "execution": {
          "iopub.status.busy": "2024-09-27T17:06:16.725486Z",
          "iopub.execute_input": "2024-09-27T17:06:16.725915Z",
          "iopub.status.idle": "2024-09-27T17:06:16.829426Z",
          "shell.execute_reply.started": "2024-09-27T17:06:16.725869Z",
          "shell.execute_reply": "2024-09-27T17:06:16.828155Z"
        },
        "trusted": true,
        "id": "7fPu1Emyz7Ve"
      },
      "execution_count": null,
      "outputs": []
    },
    {
      "cell_type": "markdown",
      "source": [
        "Use the next code cell to print the first five rows of the data."
      ],
      "metadata": {
        "id": "ihFAhK8Wz7Vf"
      }
    },
    {
      "cell_type": "code",
      "source": [
        "X_train.head()"
      ],
      "metadata": {
        "execution": {
          "iopub.status.busy": "2024-09-27T17:06:16.830906Z",
          "iopub.execute_input": "2024-09-27T17:06:16.831302Z",
          "iopub.status.idle": "2024-09-27T17:06:16.861772Z",
          "shell.execute_reply.started": "2024-09-27T17:06:16.831261Z",
          "shell.execute_reply": "2024-09-27T17:06:16.860167Z"
        },
        "trusted": true,
        "id": "tp5sZ91lz7Vf"
      },
      "execution_count": null,
      "outputs": []
    },
    {
      "cell_type": "markdown",
      "source": [
        "Notice that the dataset contains both numerical and categorical variables.  You'll need to encode the categorical data before training a model.\n",
        "\n",
        "To compare different models, you'll use the same `score_dataset()` function from the tutorial.  This function reports the [mean absolute error](https://en.wikipedia.org/wiki/Mean_absolute_error) (MAE) from a random forest model."
      ],
      "metadata": {
        "id": "w8_MT1vFz7Vf"
      }
    },
    {
      "cell_type": "code",
      "source": [
        "from sklearn.ensemble import RandomForestRegressor\n",
        "from sklearn.metrics import mean_absolute_error\n",
        "\n",
        "# function for comparing different approaches\n",
        "def score_dataset(X_train, X_valid, y_train, y_valid):\n",
        "    model = RandomForestRegressor(n_estimators=100, random_state=0)\n",
        "    model.fit(X_train, y_train)\n",
        "    preds = model.predict(X_valid)\n",
        "    return mean_absolute_error(y_valid, preds)"
      ],
      "metadata": {
        "execution": {
          "iopub.status.busy": "2024-09-27T17:06:16.863624Z",
          "iopub.execute_input": "2024-09-27T17:06:16.86412Z",
          "iopub.status.idle": "2024-09-27T17:06:16.872487Z",
          "shell.execute_reply.started": "2024-09-27T17:06:16.864046Z",
          "shell.execute_reply": "2024-09-27T17:06:16.870888Z"
        },
        "trusted": true,
        "id": "mftfYwJez7Vf"
      },
      "execution_count": null,
      "outputs": []
    },
    {
      "cell_type": "markdown",
      "source": [
        "# Step 1: Drop columns with categorical data\n",
        "\n",
        "You'll get started with the most straightforward approach.  Use the code cell below to preprocess the data in `X_train` and `X_valid` to remove columns with categorical data.  Set the preprocessed DataFrames to `drop_X_train` and `drop_X_valid`, respectively.  "
      ],
      "metadata": {
        "id": "onG6uiYOz7Vf"
      }
    },
    {
      "cell_type": "code",
      "source": [
        "# Fill in the lines below: drop columns in training and validation data\n",
        "drop_X_train = X_train.select_dtypes(exclude = [\"object\"])\n",
        "drop_X_valid = X_valid.select_dtypes(exclude = [\"object\"])\n",
        "\n",
        "# Check your answers\n",
        "step_1.check()"
      ],
      "metadata": {
        "execution": {
          "iopub.status.busy": "2024-09-27T17:06:16.876637Z",
          "iopub.execute_input": "2024-09-27T17:06:16.877721Z",
          "iopub.status.idle": "2024-09-27T17:06:16.893598Z",
          "shell.execute_reply.started": "2024-09-27T17:06:16.877668Z",
          "shell.execute_reply": "2024-09-27T17:06:16.891898Z"
        },
        "trusted": true,
        "id": "312oA1F6z7Vg"
      },
      "execution_count": null,
      "outputs": []
    },
    {
      "cell_type": "code",
      "source": [
        "# Lines below will give you a hint or solution code\n",
        "#step_1.hint()\n",
        "#step_1.solution()"
      ],
      "metadata": {
        "execution": {
          "iopub.status.busy": "2024-09-27T17:06:16.894989Z",
          "iopub.execute_input": "2024-09-27T17:06:16.895708Z",
          "iopub.status.idle": "2024-09-27T17:06:16.901958Z",
          "shell.execute_reply.started": "2024-09-27T17:06:16.895661Z",
          "shell.execute_reply": "2024-09-27T17:06:16.900511Z"
        },
        "trusted": true,
        "id": "UBAHUVuXz7Vg"
      },
      "execution_count": null,
      "outputs": []
    },
    {
      "cell_type": "markdown",
      "source": [
        "Run the next code cell to get the MAE for this approach."
      ],
      "metadata": {
        "id": "So9Eedp-z7Vg"
      }
    },
    {
      "cell_type": "code",
      "source": [
        "print(\"MAE from Approach 1 (Drop categorical variables):\")\n",
        "print(score_dataset(drop_X_train, drop_X_valid, y_train, y_valid))"
      ],
      "metadata": {
        "execution": {
          "iopub.status.busy": "2024-09-27T17:06:16.903709Z",
          "iopub.execute_input": "2024-09-27T17:06:16.904152Z",
          "iopub.status.idle": "2024-09-27T17:06:18.304987Z",
          "shell.execute_reply.started": "2024-09-27T17:06:16.90409Z",
          "shell.execute_reply": "2024-09-27T17:06:18.303348Z"
        },
        "trusted": true,
        "id": "6-elWBhwz7Vg"
      },
      "execution_count": null,
      "outputs": []
    },
    {
      "cell_type": "markdown",
      "source": [
        "Before jumping into ordinal encoding, we'll investigate the dataset.  Specifically, we'll look at the `'Condition2'` column.  The code cell below prints the unique entries in both the training and validation sets."
      ],
      "metadata": {
        "id": "07dZLBC7z7Vg"
      }
    },
    {
      "cell_type": "code",
      "source": [
        "print(\"Unique values in 'Condition2' column in training data:\", X_train['Condition2'].unique())\n",
        "print(\"\\nUnique values in 'Condition2' column in validation data:\", X_valid['Condition2'].unique())"
      ],
      "metadata": {
        "execution": {
          "iopub.status.busy": "2024-09-27T17:06:18.30697Z",
          "iopub.execute_input": "2024-09-27T17:06:18.307425Z",
          "iopub.status.idle": "2024-09-27T17:06:18.31615Z",
          "shell.execute_reply.started": "2024-09-27T17:06:18.307381Z",
          "shell.execute_reply": "2024-09-27T17:06:18.314685Z"
        },
        "trusted": true,
        "id": "jNb7J6Nsz7Vg"
      },
      "execution_count": null,
      "outputs": []
    },
    {
      "cell_type": "markdown",
      "source": [
        "# Step 2: Ordinal encoding\n",
        "\n",
        "### Part A\n",
        "\n",
        "If you now write code to:\n",
        "- fit an ordinal encoder to the training data, and then\n",
        "- use it to transform both the training and validation data,\n",
        "\n",
        "you'll get an error.  Can you see why this is the case?  (_You'll need  to use the above output to answer this question._)"
      ],
      "metadata": {
        "id": "C07SL50cz7Vg"
      }
    },
    {
      "cell_type": "code",
      "source": [
        "from sklearn.preprocessing import OrdinalEncoder\n",
        "\n",
        "# mã hóa thì lấy\n",
        "object_columns = X_train.select_dtypes(include=['object']).columns\n",
        "\n",
        "labeled_data_train = X_train.copy()\n",
        "labeled_data_valid = X_valid.copy()\n",
        "\n",
        "encoder = OrdinalEncoder()\n",
        "labeled_data_train = encoder.fit_transform(X_train[object_columns])\n",
        "labeled_data_valid = encoder.transform(X_train[object_columns])"
      ],
      "metadata": {
        "execution": {
          "iopub.status.busy": "2024-09-27T17:06:18.31815Z",
          "iopub.execute_input": "2024-09-27T17:06:18.318625Z",
          "iopub.status.idle": "2024-09-27T17:06:18.372048Z",
          "shell.execute_reply.started": "2024-09-27T17:06:18.318559Z",
          "shell.execute_reply": "2024-09-27T17:06:18.370559Z"
        },
        "trusted": true,
        "id": "F1q6XU-iz7Vg"
      },
      "execution_count": null,
      "outputs": []
    },
    {
      "cell_type": "code",
      "source": [
        "# Check your answer (Run this code cell to receive credit!)\n",
        "step_2.a.check()"
      ],
      "metadata": {
        "execution": {
          "iopub.status.busy": "2024-09-27T17:06:18.373752Z",
          "iopub.execute_input": "2024-09-27T17:06:18.374184Z",
          "iopub.status.idle": "2024-09-27T17:06:18.386327Z",
          "shell.execute_reply.started": "2024-09-27T17:06:18.374141Z",
          "shell.execute_reply": "2024-09-27T17:06:18.384609Z"
        },
        "trusted": true,
        "id": "SSNOCXJZz7Vh"
      },
      "execution_count": null,
      "outputs": []
    },
    {
      "cell_type": "markdown",
      "source": [
        "This is a common problem that you'll encounter with real-world data, and there are many approaches to fixing this issue.  For instance, you can write a custom ordinal encoder to deal with new categories.  The simplest approach, however, is to drop the problematic categorical columns.  \n",
        "\n",
        "Run the code cell below to save the problematic columns to a Python list `bad_label_cols`.  Likewise, columns that can be safely ordinal encoded are stored in `good_label_cols`."
      ],
      "metadata": {
        "id": "tWQ88dYoz7Vh"
      }
    },
    {
      "cell_type": "code",
      "source": [
        "# xử lý trường hợp encoder có ở tập train nhưng kh có ở tập test\n",
        "\n",
        "# Categorical columns in the training data\n",
        "object_cols = [col for col in X_train.columns if X_train[col].dtype == \"object\"]\n",
        "\n",
        "# Columns that can be safely ordinal encoded\n",
        "good_label_cols = [col for col in object_cols if\n",
        "                   set(X_valid[col]).issubset(set(X_train[col]))]\n",
        "\n",
        "# Problematic columns that will be dropped from the dataset\n",
        "bad_label_cols = list(set(object_cols)-set(good_label_cols))\n",
        "\n",
        "print('Categorical columns that will be ordinal encoded:', good_label_cols)\n",
        "print('\\nCategorical columns that will be dropped from the dataset:', bad_label_cols)"
      ],
      "metadata": {
        "execution": {
          "iopub.status.busy": "2024-09-27T17:06:18.38834Z",
          "iopub.execute_input": "2024-09-27T17:06:18.388891Z",
          "iopub.status.idle": "2024-09-27T17:06:18.410177Z",
          "shell.execute_reply.started": "2024-09-27T17:06:18.388799Z",
          "shell.execute_reply": "2024-09-27T17:06:18.40862Z"
        },
        "trusted": true,
        "id": "DJprkhXRz7Vh"
      },
      "execution_count": null,
      "outputs": []
    },
    {
      "cell_type": "markdown",
      "source": [
        "### Part B\n",
        "\n",
        "Use the next code cell to ordinal encode the data in `X_train` and `X_valid`.  Set the preprocessed DataFrames to `label_X_train` and `label_X_valid`, respectively.  \n",
        "- We have provided code below to drop the categorical columns in `bad_label_cols` from the dataset.\n",
        "- You should ordinal encode the categorical columns in `good_label_cols`.  "
      ],
      "metadata": {
        "id": "ybKCerTYz7Vh"
      }
    },
    {
      "cell_type": "code",
      "source": [
        "from sklearn.preprocessing import OrdinalEncoder\n",
        "\n",
        "# Drop categorical columns that will not be encoded\n",
        "label_X_train = X_train.drop(bad_label_cols, axis=1)\n",
        "label_X_valid = X_valid.drop(bad_label_cols, axis=1)\n",
        "\n",
        "# Apply ordinal encoder\n",
        "encoder = OrdinalEncoder()\n",
        "label_X_train[good_label_cols] = encoder.fit_transform(label_X_train[good_label_cols])\n",
        "label_X_valid[good_label_cols] = encoder.transform(label_X_valid[good_label_cols])\n",
        "\n",
        "# Check your answer\n",
        "step_2.b.check()"
      ],
      "metadata": {
        "execution": {
          "iopub.status.busy": "2024-09-27T17:09:18.967975Z",
          "iopub.execute_input": "2024-09-27T17:09:18.968553Z",
          "iopub.status.idle": "2024-09-27T17:09:19.022155Z",
          "shell.execute_reply.started": "2024-09-27T17:09:18.968508Z",
          "shell.execute_reply": "2024-09-27T17:09:19.020644Z"
        },
        "trusted": true,
        "id": "sS_FWqZBz7Vh"
      },
      "execution_count": null,
      "outputs": []
    },
    {
      "cell_type": "code",
      "source": [
        "# Lines below will give you a hint or solution code\n",
        "#step_2.b.hint()\n",
        "# step_2.b.solution()"
      ],
      "metadata": {
        "execution": {
          "iopub.status.busy": "2024-09-27T17:06:18.490642Z",
          "iopub.execute_input": "2024-09-27T17:06:18.491089Z",
          "iopub.status.idle": "2024-09-27T17:06:18.497746Z",
          "shell.execute_reply.started": "2024-09-27T17:06:18.491033Z",
          "shell.execute_reply": "2024-09-27T17:06:18.496361Z"
        },
        "trusted": true,
        "id": "Jdw602V0z7Vh"
      },
      "execution_count": null,
      "outputs": []
    },
    {
      "cell_type": "markdown",
      "source": [
        "Run the next code cell to get the MAE for this approach."
      ],
      "metadata": {
        "id": "-13xzbRIz7Vh"
      }
    },
    {
      "cell_type": "code",
      "source": [
        "print(\"MAE from Approach 2 (Ordinal Encoding):\")\n",
        "print(score_dataset(label_X_train, label_X_valid, y_train, y_valid))"
      ],
      "metadata": {
        "execution": {
          "iopub.status.busy": "2024-09-27T17:09:21.374036Z",
          "iopub.execute_input": "2024-09-27T17:09:21.374488Z",
          "iopub.status.idle": "2024-09-27T17:09:23.060684Z",
          "shell.execute_reply.started": "2024-09-27T17:09:21.374449Z",
          "shell.execute_reply": "2024-09-27T17:09:23.059049Z"
        },
        "trusted": true,
        "id": "4bWimQNKz7Vi"
      },
      "execution_count": null,
      "outputs": []
    },
    {
      "cell_type": "markdown",
      "source": [
        "So far, you've tried two different approaches to dealing with categorical variables.  And, you've seen that encoding categorical data yields better results than removing columns from the dataset.\n",
        "\n",
        "Soon, you'll try one-hot encoding.  Before then, there's one additional topic we need to cover.  Begin by running the next code cell without changes.  "
      ],
      "metadata": {
        "id": "a8TOE7drz7Vi"
      }
    },
    {
      "cell_type": "code",
      "source": [
        "# Get number of unique entries in each column with categorical data\n",
        "object_nunique = list(map(lambda col: X_train[col].nunique(), object_cols))\n",
        "d = dict(zip(object_cols, object_nunique))\n",
        "\n",
        "# Print number of unique entries by column, in ascending order\n",
        "labeled = sorted(d.items(), key=lambda x: x[1])\n",
        "\n",
        "labeled"
      ],
      "metadata": {
        "execution": {
          "iopub.status.busy": "2024-09-27T17:17:53.962246Z",
          "iopub.execute_input": "2024-09-27T17:17:53.963319Z",
          "iopub.status.idle": "2024-09-27T17:17:53.985032Z",
          "shell.execute_reply.started": "2024-09-27T17:17:53.963266Z",
          "shell.execute_reply": "2024-09-27T17:17:53.983189Z"
        },
        "trusted": true,
        "id": "EZtsX3vgz7Vi"
      },
      "execution_count": null,
      "outputs": []
    },
    {
      "cell_type": "markdown",
      "source": [
        "# Step 3: Investigating cardinality\n",
        "\n",
        "### Part A\n",
        "\n",
        "The output above shows, for each column with categorical data, the number of unique values in the column.  For instance, the `'Street'` column in the training data has two unique values: `'Grvl'` and `'Pave'`, corresponding to a gravel road and a paved road, respectively.\n",
        "\n",
        "We refer to the number of unique entries of a categorical variable as the **cardinality** of that categorical variable.  For instance, the `'Street'` variable has cardinality 2.\n",
        "\n",
        "Use the output above to answer the questions below."
      ],
      "metadata": {
        "id": "Dn6CVfKtz7Vi"
      }
    },
    {
      "cell_type": "code",
      "source": [
        "sum(x[1] for x in d.items())"
      ],
      "metadata": {
        "execution": {
          "iopub.status.busy": "2024-09-27T17:25:34.69126Z",
          "iopub.execute_input": "2024-09-27T17:25:34.692772Z",
          "iopub.status.idle": "2024-09-27T17:25:34.702525Z",
          "shell.execute_reply.started": "2024-09-27T17:25:34.692704Z",
          "shell.execute_reply": "2024-09-27T17:25:34.700654Z"
        },
        "trusted": true,
        "id": "uj_XX0b5z7Vi"
      },
      "execution_count": null,
      "outputs": []
    },
    {
      "cell_type": "code",
      "source": [
        "# Fill in the line below: How many categorical variables in the training data\n",
        "# have cardinality greater than 10?\n",
        "high_cardinality_numcols = 3\n",
        "\n",
        "# Fill in the line below: How many columns are needed to one-hot encode the\n",
        "# 'Neighborhood' variable in the training data?\n",
        "num_cols_neighborhood = 25\n",
        "\n",
        "# Check your answers\n",
        "step_3.a.check()"
      ],
      "metadata": {
        "execution": {
          "iopub.status.busy": "2024-09-27T17:28:18.155685Z",
          "iopub.execute_input": "2024-09-27T17:28:18.156172Z",
          "iopub.status.idle": "2024-09-27T17:28:18.169214Z",
          "shell.execute_reply.started": "2024-09-27T17:28:18.15613Z",
          "shell.execute_reply": "2024-09-27T17:28:18.167492Z"
        },
        "trusted": true,
        "id": "UDnaaRXSz7Vi"
      },
      "execution_count": null,
      "outputs": []
    },
    {
      "cell_type": "code",
      "source": [
        "# Lines below will give you a hint or solution code\n",
        "#step_3.a.hint()\n",
        "#step_3.a.solution()"
      ],
      "metadata": {
        "execution": {
          "iopub.status.busy": "2024-09-27T17:06:18.726465Z",
          "iopub.status.idle": "2024-09-27T17:06:18.727012Z",
          "shell.execute_reply.started": "2024-09-27T17:06:18.726765Z",
          "shell.execute_reply": "2024-09-27T17:06:18.72679Z"
        },
        "trusted": true,
        "id": "Qv5B-3U7z7Vi"
      },
      "execution_count": null,
      "outputs": []
    },
    {
      "cell_type": "markdown",
      "source": [
        "### Part B\n",
        "\n",
        "For large datasets with many rows, one-hot encoding can greatly expand the size of the dataset.  For this reason, we typically will only one-hot encode columns with relatively low cardinality.  Then, high cardinality columns can either be dropped from the dataset, or we can use ordinal encoding.\n",
        "\n",
        "As an example, consider a dataset with 10,000 rows, and containing one categorical column with 100 unique entries.  \n",
        "- If this column is replaced with the corresponding one-hot encoding, how many entries are added to the dataset?  \n",
        "- If we instead replace the column with the ordinal encoding, how many entries are added?  \n",
        "\n",
        "Use your answers to fill in the lines below."
      ],
      "metadata": {
        "id": "rOs5ieQBz7Vi"
      }
    },
    {
      "cell_type": "code",
      "source": [
        "# Fill in the line below: How many entries are added to the dataset by\n",
        "# replacing the column with a one-hot encoding?\n",
        "OH_entries_added = 990000\n",
        "\n",
        "# Fill in the line below: How many entries are added to the dataset by\n",
        "# replacing the column with an ordinal encoding?\n",
        "label_entries_added = 0\n",
        "\n",
        "# Check your answers\n",
        "step_3.b.check()"
      ],
      "metadata": {
        "execution": {
          "iopub.status.busy": "2024-09-27T17:38:57.541974Z",
          "iopub.execute_input": "2024-09-27T17:38:57.542546Z",
          "iopub.status.idle": "2024-09-27T17:38:57.555028Z",
          "shell.execute_reply.started": "2024-09-27T17:38:57.542499Z",
          "shell.execute_reply": "2024-09-27T17:38:57.553402Z"
        },
        "trusted": true,
        "id": "17wXL5pTz7Vi"
      },
      "execution_count": null,
      "outputs": []
    },
    {
      "cell_type": "code",
      "source": [
        "# Lines below will give you a hint or solution code\n",
        "#step_3.b.hint()\n",
        "# step_3.b.solution()"
      ],
      "metadata": {
        "execution": {
          "iopub.status.busy": "2024-09-27T17:06:18.730463Z",
          "iopub.status.idle": "2024-09-27T17:06:18.730892Z",
          "shell.execute_reply.started": "2024-09-27T17:06:18.730688Z",
          "shell.execute_reply": "2024-09-27T17:06:18.730709Z"
        },
        "trusted": true,
        "id": "69eaVymWz7Vi"
      },
      "execution_count": null,
      "outputs": []
    },
    {
      "cell_type": "markdown",
      "source": [
        "Next, you'll experiment with one-hot encoding.  But, instead of encoding all of the categorical variables in the dataset, you'll only create a one-hot encoding for columns with cardinality less than 10.\n",
        "\n",
        "Run the code cell below without changes to set `low_cardinality_cols` to a Python list containing the columns that will be one-hot encoded.  Likewise, `high_cardinality_cols` contains a list of categorical columns that will be dropped from the dataset."
      ],
      "metadata": {
        "id": "qgzkCU4yz7Vj"
      }
    },
    {
      "cell_type": "code",
      "source": [
        "# Columns that will be one-hot encoded\n",
        "low_cardinality_cols = [col for col in object_cols if X_train[col].nunique() < 10]\n",
        "\n",
        "# Columns that will be dropped from the dataset\n",
        "high_cardinality_cols = list(set(object_cols)-set(low_cardinality_cols))\n",
        "\n",
        "print('Categorical columns that will be one-hot encoded:', low_cardinality_cols)\n",
        "print('\\nCategorical columns that will be dropped from the dataset:', high_cardinality_cols)"
      ],
      "metadata": {
        "execution": {
          "iopub.status.busy": "2024-09-27T17:39:11.525409Z",
          "iopub.execute_input": "2024-09-27T17:39:11.526469Z",
          "iopub.status.idle": "2024-09-27T17:39:11.541926Z",
          "shell.execute_reply.started": "2024-09-27T17:39:11.526421Z",
          "shell.execute_reply": "2024-09-27T17:39:11.540628Z"
        },
        "trusted": true,
        "id": "vxhHnLsjz7Vj"
      },
      "execution_count": null,
      "outputs": []
    },
    {
      "cell_type": "markdown",
      "source": [
        "# Step 4: One-hot encoding\n",
        "\n",
        "Use the next code cell to one-hot encode the data in `X_train` and `X_valid`.  Set the preprocessed DataFrames to `OH_X_train` and `OH_X_valid`, respectively.  \n",
        "- The full list of categorical columns in the dataset can be found in the Python list `object_cols`.\n",
        "- You should only one-hot encode the categorical columns in `low_cardinality_cols`.  All other categorical columns should be dropped from the dataset."
      ],
      "metadata": {
        "id": "q6_DyYquz7Vj"
      }
    },
    {
      "cell_type": "code",
      "source": [
        "from sklearn.preprocessing import OneHotEncoder\n",
        "\n",
        "# Loại bỏ các cột phân loại (object) khỏi tập huấn luyện và kiểm thử\n",
        "num_X_train  = X_train.drop(object_cols, axis=1)\n",
        "num_X_valid  = X_valid.drop(object_cols, axis=1)\n",
        "\n",
        "# Khởi tạo OneHotEncoder\n",
        "encoder = OneHotEncoder(handle_unknown='ignore', sparse=False)\n",
        "\n",
        "# Thực hiện One-Hot Encoding\n",
        "OH_X_train = pd.DataFrame(encoder.fit_transform(X_train[low_cardinality_cols]))\n",
        "OH_X_valid = pd.DataFrame(encoder.transform(X_valid[low_cardinality_cols]))\n",
        "\n",
        "# One-hot encoding đã làm mất index; khôi phục lại\n",
        "OH_X_train.index = X_train.index\n",
        "OH_X_valid.index = X_valid.index\n",
        "\n",
        "# Gộp lại các cột số và các cột đã được mã hóa One-Hot\n",
        "OH_X_train = pd.concat([num_X_train, OH_X_train], axis=1)\n",
        "OH_X_valid = pd.concat([num_X_valid, OH_X_valid], axis=1)\n",
        "\n",
        "\n",
        "# Ensure all columns have string type\n",
        "OH_X_train.columns = OH_X_train.columns.astype(str)\n",
        "OH_X_valid.columns = OH_X_valid.columns.astype(str)\n",
        "# Check your answer\n",
        "step_4.check()\n"
      ],
      "metadata": {
        "execution": {
          "iopub.status.busy": "2024-09-27T18:04:17.352977Z",
          "iopub.execute_input": "2024-09-27T18:04:17.35371Z",
          "iopub.status.idle": "2024-09-27T18:04:17.438365Z",
          "shell.execute_reply.started": "2024-09-27T18:04:17.353648Z",
          "shell.execute_reply": "2024-09-27T18:04:17.437014Z"
        },
        "trusted": true,
        "id": "Bkc-p_HFz7Vl"
      },
      "execution_count": null,
      "outputs": []
    },
    {
      "cell_type": "code",
      "source": [
        "OH_X_valid"
      ],
      "metadata": {
        "execution": {
          "iopub.status.busy": "2024-09-27T18:03:23.078339Z",
          "iopub.execute_input": "2024-09-27T18:03:23.079857Z",
          "iopub.status.idle": "2024-09-27T18:03:23.123053Z",
          "shell.execute_reply.started": "2024-09-27T18:03:23.079793Z",
          "shell.execute_reply": "2024-09-27T18:03:23.12139Z"
        },
        "trusted": true,
        "id": "3wnv-vnUz7Vl"
      },
      "execution_count": null,
      "outputs": []
    },
    {
      "cell_type": "code",
      "source": [
        "# Lines below will give you a hint or solution code\n",
        "#step_4.hint()\n",
        "#step_4.solution()"
      ],
      "metadata": {
        "execution": {
          "iopub.status.busy": "2024-09-27T17:06:18.736541Z",
          "iopub.status.idle": "2024-09-27T17:06:18.736949Z",
          "shell.execute_reply.started": "2024-09-27T17:06:18.736742Z",
          "shell.execute_reply": "2024-09-27T17:06:18.736763Z"
        },
        "trusted": true,
        "id": "hurj9corz7Vm"
      },
      "execution_count": null,
      "outputs": []
    },
    {
      "cell_type": "markdown",
      "source": [
        "Run the next code cell to get the MAE for this approach."
      ],
      "metadata": {
        "id": "n5tSak24z7Vm"
      }
    },
    {
      "cell_type": "code",
      "source": [
        "print(\"MAE from Approach 3 (One-Hot Encoding):\")\n",
        "print(score_dataset(OH_X_train, OH_X_valid, y_train, y_valid))"
      ],
      "metadata": {
        "execution": {
          "iopub.status.busy": "2024-09-27T18:04:53.503616Z",
          "iopub.execute_input": "2024-09-27T18:04:53.505249Z",
          "iopub.status.idle": "2024-09-27T18:04:55.62574Z",
          "shell.execute_reply.started": "2024-09-27T18:04:53.505178Z",
          "shell.execute_reply": "2024-09-27T18:04:55.624195Z"
        },
        "trusted": true,
        "id": "uT0xuLAhz7Vm"
      },
      "execution_count": null,
      "outputs": []
    },
    {
      "cell_type": "markdown",
      "source": [
        "# Generate test predictions and submit your results\n",
        "\n",
        "After you complete Step 4, if you'd like to use what you've learned to submit your results to the leaderboard, you'll need to preprocess the test data before generating predictions.\n",
        "\n",
        "**This step is completely optional, and you do not need to submit results to the leaderboard to successfully complete the exercise.**\n",
        "\n",
        "Check out the previous exercise if you need help with remembering how to [join the competition](https://www.kaggle.com/c/home-data-for-ml-course) or save your results to CSV.  Once you have generated a file with your results, follow the instructions below:\n",
        "1. Begin by clicking on the **Save Version** button in the top right corner of the window.  This will generate a pop-up window.  \n",
        "2. Ensure that the **Save and Run All** option is selected, and then click on the **Save** button.\n",
        "3. This generates a window in the bottom left corner of the notebook.  After it has finished running, click on the number to the right of the **Save Version** button.  This pulls up a list of versions on the right of the screen.  Click on the ellipsis **(...)** to the right of the most recent version, and select **Open in Viewer**.  This brings you into view mode of the same page. You will need to scroll down to get back to these instructions.\n",
        "4. Click on the **Data** tab near the top of the screen.  Then, click on the file you would like to submit, and click on the **Submit** button to submit your results to the leaderboard.\n",
        "\n",
        "You have now successfully submitted to the competition!\n",
        "\n",
        "If you want to keep working to improve your performance, select the **Edit** button in the top right of the screen. Then you can change your code and repeat the process. There's a lot of room to improve, and you will climb up the leaderboard as you work.\n"
      ],
      "metadata": {
        "id": "oc-24YtXz7Vm"
      }
    },
    {
      "cell_type": "code",
      "source": [
        "# (Optional) Your code here"
      ],
      "metadata": {
        "execution": {
          "iopub.status.busy": "2024-09-27T17:06:18.742593Z",
          "iopub.status.idle": "2024-09-27T17:06:18.743215Z",
          "shell.execute_reply.started": "2024-09-27T17:06:18.742899Z",
          "shell.execute_reply": "2024-09-27T17:06:18.742925Z"
        },
        "trusted": true,
        "id": "ZKvhMVtaz7Vm"
      },
      "execution_count": null,
      "outputs": []
    },
    {
      "cell_type": "markdown",
      "source": [
        "# Keep going\n",
        "\n",
        "With missing value handling and categorical encoding, your modeling process is getting complex. This complexity gets worse when you want to save your model to use in the future. The key to managing this complexity is something called **pipelines**.\n",
        "\n",
        "**[Learn to use pipelines](https://www.kaggle.com/alexisbcook/pipelines)** to preprocess datasets with categorical variables, missing values and any other messiness your data throws at you."
      ],
      "metadata": {
        "id": "VbP6o0atz7Vm"
      }
    },
    {
      "cell_type": "markdown",
      "source": [
        "---\n",
        "\n",
        "\n",
        "\n",
        "\n",
        "*Have questions or comments? Visit the [course discussion forum](https://www.kaggle.com/learn/intermediate-machine-learning/discussion) to chat with other learners.*"
      ],
      "metadata": {
        "id": "wO_GFVT_z7Vm"
      }
    }
  ]
}