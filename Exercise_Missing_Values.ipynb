{
  "metadata": {
    "kernelspec": {
      "display_name": "Python 3",
      "language": "python",
      "name": "python3"
    },
    "language_info": {
      "name": "python",
      "version": "3.10.14",
      "mimetype": "text/x-python",
      "codemirror_mode": {
        "name": "ipython",
        "version": 3
      },
      "pygments_lexer": "ipython3",
      "nbconvert_exporter": "python",
      "file_extension": ".py"
    },
    "kaggle": {
      "accelerator": "none",
      "dataSources": [
        {
          "sourceId": 10211,
          "databundleVersionId": 111096,
          "sourceType": "competition"
        }
      ],
      "isInternetEnabled": false,
      "language": "python",
      "sourceType": "notebook",
      "isGpuEnabled": false
    },
    "colab": {
      "name": "Exercise: Missing Values",
      "provenance": [],
      "include_colab_link": true
    }
  },
  "nbformat_minor": 0,
  "nbformat": 4,
  "cells": [
    {
      "cell_type": "markdown",
      "metadata": {
        "id": "view-in-github",
        "colab_type": "text"
      },
      "source": [
        "<a href=\"https://colab.research.google.com/github/T-Sunm/Intermediate-Machine-Learning-Kaggle/blob/main/Exercise_Missing_Values.ipynb\" target=\"_parent\"><img src=\"https://colab.research.google.com/assets/colab-badge.svg\" alt=\"Open In Colab\"/></a>"
      ]
    },
    {
      "source": [
        "\n",
        "# IMPORTANT: RUN THIS CELL IN ORDER TO IMPORT YOUR KAGGLE DATA SOURCES\n",
        "# TO THE CORRECT LOCATION (/kaggle/input) IN YOUR NOTEBOOK,\n",
        "# THEN FEEL FREE TO DELETE THIS CELL.\n",
        "# NOTE: THIS NOTEBOOK ENVIRONMENT DIFFERS FROM KAGGLE'S PYTHON\n",
        "# ENVIRONMENT SO THERE MAY BE MISSING LIBRARIES USED BY YOUR\n",
        "# NOTEBOOK.\n",
        "\n",
        "import os\n",
        "import sys\n",
        "from tempfile import NamedTemporaryFile\n",
        "from urllib.request import urlopen\n",
        "from urllib.parse import unquote, urlparse\n",
        "from urllib.error import HTTPError\n",
        "from zipfile import ZipFile\n",
        "import tarfile\n",
        "import shutil\n",
        "\n",
        "CHUNK_SIZE = 40960\n",
        "DATA_SOURCE_MAPPING = ':https%3A%2F%2Fstorage.googleapis.com%2Fkaggle-competitions-data%2Fkaggle-v2%2F10211%2F111096%2Fbundle%2Farchive.zip%3FX-Goog-Algorithm%3DGOOG4-RSA-SHA256%26X-Goog-Credential%3Dgcp-kaggle-com%2540kaggle-161607.iam.gserviceaccount.com%252F20240928%252Fauto%252Fstorage%252Fgoog4_request%26X-Goog-Date%3D20240928T172222Z%26X-Goog-Expires%3D259200%26X-Goog-SignedHeaders%3Dhost%26X-Goog-Signature%3D71ae0ab91797718142bb3183896e1d718ea951f15b8c28c25fdf1623c16ef19f47617af7841b861096da761d86500df688a4fda1e711cdc0c28082953fc0503aaab0399b10b8454411050715da3bb3674964e3f9829b202024768992f4557c6413be867502d9f61fbe828f5babedab569ee86b1106c6a44875ee57b3a90c99fcb2afd4d444b9625b7c6d443509ddb4eaa653f4160ce1249037894abad859adcc27a203e4390da22c62ddb287eb8024a638c9c3c6922c83df896b57f188a529d44ae39be545f3368d1ac6d88116677391cf87df42320ed3686f8676fac564d29880e951b4b3ab42069e954266bbf4b67be17ac2cb166146a1d2f47c4d42593e52'\n",
        "\n",
        "KAGGLE_INPUT_PATH='/kaggle/input'\n",
        "KAGGLE_WORKING_PATH='/kaggle/working'\n",
        "KAGGLE_SYMLINK='kaggle'\n",
        "\n",
        "!umount /kaggle/input/ 2> /dev/null\n",
        "shutil.rmtree('/kaggle/input', ignore_errors=True)\n",
        "os.makedirs(KAGGLE_INPUT_PATH, 0o777, exist_ok=True)\n",
        "os.makedirs(KAGGLE_WORKING_PATH, 0o777, exist_ok=True)\n",
        "\n",
        "try:\n",
        "  os.symlink(KAGGLE_INPUT_PATH, os.path.join(\"..\", 'input'), target_is_directory=True)\n",
        "except FileExistsError:\n",
        "  pass\n",
        "try:\n",
        "  os.symlink(KAGGLE_WORKING_PATH, os.path.join(\"..\", 'working'), target_is_directory=True)\n",
        "except FileExistsError:\n",
        "  pass\n",
        "\n",
        "for data_source_mapping in DATA_SOURCE_MAPPING.split(','):\n",
        "    directory, download_url_encoded = data_source_mapping.split(':')\n",
        "    download_url = unquote(download_url_encoded)\n",
        "    filename = urlparse(download_url).path\n",
        "    destination_path = os.path.join(KAGGLE_INPUT_PATH, directory)\n",
        "    try:\n",
        "        with urlopen(download_url) as fileres, NamedTemporaryFile() as tfile:\n",
        "            total_length = fileres.headers['content-length']\n",
        "            print(f'Downloading {directory}, {total_length} bytes compressed')\n",
        "            dl = 0\n",
        "            data = fileres.read(CHUNK_SIZE)\n",
        "            while len(data) > 0:\n",
        "                dl += len(data)\n",
        "                tfile.write(data)\n",
        "                done = int(50 * dl / int(total_length))\n",
        "                sys.stdout.write(f\"\\r[{'=' * done}{' ' * (50-done)}] {dl} bytes downloaded\")\n",
        "                sys.stdout.flush()\n",
        "                data = fileres.read(CHUNK_SIZE)\n",
        "            if filename.endswith('.zip'):\n",
        "              with ZipFile(tfile) as zfile:\n",
        "                zfile.extractall(destination_path)\n",
        "            else:\n",
        "              with tarfile.open(tfile.name) as tarfile:\n",
        "                tarfile.extractall(destination_path)\n",
        "            print(f'\\nDownloaded and uncompressed: {directory}')\n",
        "    except HTTPError as e:\n",
        "        print(f'Failed to load (likely expired) {download_url} to path {destination_path}')\n",
        "        continue\n",
        "    except OSError as e:\n",
        "        print(f'Failed to load {download_url} to path {destination_path}')\n",
        "        continue\n",
        "\n",
        "print('Data source import complete.')\n"
      ],
      "metadata": {
        "id": "HDNuw9lcpwmK"
      },
      "cell_type": "code",
      "outputs": [],
      "execution_count": null
    },
    {
      "cell_type": "markdown",
      "source": [
        "**This notebook is an exercise in the [Intermediate Machine Learning](https://www.kaggle.com/learn/intermediate-machine-learning) course.  You can reference the tutorial at [this link](https://www.kaggle.com/alexisbcook/missing-values).**\n",
        "\n",
        "---\n"
      ],
      "metadata": {
        "id": "khXjRRzFpwmM"
      }
    },
    {
      "cell_type": "markdown",
      "source": [
        "Now it's your turn to test your new knowledge of **missing values** handling. You'll probably find it makes a big difference.\n",
        "\n",
        "# Setup\n",
        "\n",
        "The questions will give you feedback on your work. Run the following cell to set up the feedback system."
      ],
      "metadata": {
        "id": "mg7YdUt2pwmO"
      }
    },
    {
      "cell_type": "code",
      "source": [
        "# Set up code checking\n",
        "import os\n",
        "if not os.path.exists(\"../input/train.csv\"):\n",
        "    os.symlink(\"../input/home-data-for-ml-course/train.csv\", \"../input/train.csv\")\n",
        "    os.symlink(\"../input/home-data-for-ml-course/test.csv\", \"../input/test.csv\")\n",
        "from learntools.core import binder\n",
        "binder.bind(globals())\n",
        "from learntools.ml_intermediate.ex2 import *\n",
        "print(\"Setup Complete\")"
      ],
      "metadata": {
        "execution": {
          "iopub.status.busy": "2024-09-27T09:38:29.910854Z",
          "iopub.execute_input": "2024-09-27T09:38:29.911396Z",
          "iopub.status.idle": "2024-09-27T09:38:29.919521Z",
          "shell.execute_reply.started": "2024-09-27T09:38:29.911351Z",
          "shell.execute_reply": "2024-09-27T09:38:29.918276Z"
        },
        "trusted": true,
        "id": "t2MutiALpwmO"
      },
      "execution_count": null,
      "outputs": []
    },
    {
      "cell_type": "markdown",
      "source": [
        "In this exercise, you will work with data from the [Housing Prices Competition for Kaggle Learn Users](https://www.kaggle.com/c/home-data-for-ml-course).\n",
        "\n",
        "![Ames Housing dataset image](https://storage.googleapis.com/kaggle-media/learn/images/lTJVG4e.png)\n",
        "\n",
        "Run the next code cell without changes to load the training and validation sets in `X_train`, `X_valid`, `y_train`, and `y_valid`.  The test set is loaded in `X_test`."
      ],
      "metadata": {
        "id": "Rq1IZQrupwmP"
      }
    },
    {
      "cell_type": "code",
      "source": [
        "import pandas as pd\n",
        "from sklearn.model_selection import train_test_split\n",
        "\n",
        "# Read the data\n",
        "X_full = pd.read_csv('../input/train.csv', index_col='Id')\n",
        "X_test_full = pd.read_csv('../input/test.csv', index_col='Id')\n",
        "\n",
        "# Remove rows with missing target, separate target from predictors\n",
        "X_full.dropna(axis=0, subset=['SalePrice'], inplace=True)\n",
        "y = X_full.SalePrice\n",
        "X_full.drop(['SalePrice'], axis=1, inplace=True)\n",
        "\n",
        "# To keep things simple, we'll use only numerical predictors\n",
        "X = X_full.select_dtypes(exclude=['object'])\n",
        "X_test = X_test_full.select_dtypes(exclude=['object'])\n",
        "\n",
        "# Break off validation set from training data\n",
        "X_train, X_valid, y_train, y_valid = train_test_split(X, y, train_size=0.8, test_size=0.2,\n",
        "                                                      random_state=0)"
      ],
      "metadata": {
        "execution": {
          "iopub.status.busy": "2024-09-27T09:38:29.921683Z",
          "iopub.execute_input": "2024-09-27T09:38:29.922134Z",
          "iopub.status.idle": "2024-09-27T09:38:29.978603Z",
          "shell.execute_reply.started": "2024-09-27T09:38:29.922064Z",
          "shell.execute_reply": "2024-09-27T09:38:29.977242Z"
        },
        "trusted": true,
        "id": "HkHN5SzppwmP"
      },
      "execution_count": null,
      "outputs": []
    },
    {
      "cell_type": "markdown",
      "source": [
        "Use the next code cell to print the first five rows of the data."
      ],
      "metadata": {
        "id": "c30mhAn5pwmP"
      }
    },
    {
      "cell_type": "code",
      "source": [
        "X_train.head()"
      ],
      "metadata": {
        "execution": {
          "iopub.status.busy": "2024-09-27T09:38:29.980419Z",
          "iopub.execute_input": "2024-09-27T09:38:29.980909Z",
          "iopub.status.idle": "2024-09-27T09:38:30.003266Z",
          "shell.execute_reply.started": "2024-09-27T09:38:29.980856Z",
          "shell.execute_reply": "2024-09-27T09:38:30.001769Z"
        },
        "trusted": true,
        "id": "L4N1J3I-pwmQ"
      },
      "execution_count": null,
      "outputs": []
    },
    {
      "cell_type": "markdown",
      "source": [
        "You can already see a few missing values in the first several rows.  In the next step, you'll obtain a more comprehensive understanding of the missing values in the dataset.\n",
        "\n",
        "# Step 1: Preliminary investigation\n",
        "\n",
        "Run the code cell below without changes."
      ],
      "metadata": {
        "id": "aShhIuAgpwmQ"
      }
    },
    {
      "cell_type": "code",
      "source": [
        "# Shape of training data (num_rows, num_columns)\n",
        "print(X_train.shape)\n",
        "\n",
        "# Number of missing values in each column of training data\n",
        "missing_val_count_by_column = (X_train.isnull().sum())\n",
        "print(missing_val_count_by_column[missing_val_count_by_column > 0])"
      ],
      "metadata": {
        "execution": {
          "iopub.status.busy": "2024-09-27T09:38:30.005895Z",
          "iopub.execute_input": "2024-09-27T09:38:30.006318Z",
          "iopub.status.idle": "2024-09-27T09:38:30.018432Z",
          "shell.execute_reply.started": "2024-09-27T09:38:30.006281Z",
          "shell.execute_reply": "2024-09-27T09:38:30.017041Z"
        },
        "trusted": true,
        "id": "3I6ssV5PpwmQ"
      },
      "execution_count": null,
      "outputs": []
    },
    {
      "cell_type": "markdown",
      "source": [
        "### Part A\n",
        "\n",
        "Use the above output to answer the questions below."
      ],
      "metadata": {
        "id": "Wd_7YCRepwmR"
      }
    },
    {
      "cell_type": "code",
      "source": [
        "# Fill in the line below: How many rows are in the training data?\n",
        "num_rows = 1168\n",
        "\n",
        "# Fill in the line below: How many columns in the training data\n",
        "# have missing values?\n",
        "num_cols_with_missing = 3\n",
        "\n",
        "# Fill in the line below: How many missing entries are contained in\n",
        "# all of the training data?\n",
        "tot_missing = 212 + 6 + 58\n",
        "\n",
        "# Check your answers\n",
        "step_1.a.check()"
      ],
      "metadata": {
        "execution": {
          "iopub.status.busy": "2024-09-27T09:38:30.019877Z",
          "iopub.execute_input": "2024-09-27T09:38:30.020308Z",
          "iopub.status.idle": "2024-09-27T09:38:30.037099Z",
          "shell.execute_reply.started": "2024-09-27T09:38:30.020269Z",
          "shell.execute_reply": "2024-09-27T09:38:30.035954Z"
        },
        "trusted": true,
        "id": "zXUdC8h1pwmR"
      },
      "execution_count": null,
      "outputs": []
    },
    {
      "cell_type": "code",
      "source": [
        "# Lines below will give you a hint or solution code\n",
        "#step_1.a.hint()\n",
        "#step_1.a.solution()"
      ],
      "metadata": {
        "execution": {
          "iopub.status.busy": "2024-09-27T09:38:30.038865Z",
          "iopub.execute_input": "2024-09-27T09:38:30.039912Z",
          "iopub.status.idle": "2024-09-27T09:38:30.05315Z",
          "shell.execute_reply.started": "2024-09-27T09:38:30.039853Z",
          "shell.execute_reply": "2024-09-27T09:38:30.052098Z"
        },
        "trusted": true,
        "id": "6R0TzzlepwmR"
      },
      "execution_count": null,
      "outputs": []
    },
    {
      "cell_type": "markdown",
      "source": [
        "### Part B\n",
        "Considering your answers above, what do you think is likely the best approach to dealing with the missing values?"
      ],
      "metadata": {
        "id": "wfhFJ7wIpwmR"
      }
    },
    {
      "cell_type": "code",
      "source": [
        "# Check your answer (Run this code cell to receive credit!)\n",
        "step_1.b.check()"
      ],
      "metadata": {
        "execution": {
          "iopub.status.busy": "2024-09-27T09:38:30.054614Z",
          "iopub.execute_input": "2024-09-27T09:38:30.055548Z",
          "iopub.status.idle": "2024-09-27T09:38:30.069331Z",
          "shell.execute_reply.started": "2024-09-27T09:38:30.055502Z",
          "shell.execute_reply": "2024-09-27T09:38:30.068257Z"
        },
        "trusted": true,
        "id": "OuaR7kNdpwmR"
      },
      "execution_count": null,
      "outputs": []
    },
    {
      "cell_type": "code",
      "source": [
        "#step_1.b.hint()"
      ],
      "metadata": {
        "execution": {
          "iopub.status.busy": "2024-09-27T09:38:30.070742Z",
          "iopub.execute_input": "2024-09-27T09:38:30.071109Z",
          "iopub.status.idle": "2024-09-27T09:38:30.082735Z",
          "shell.execute_reply.started": "2024-09-27T09:38:30.071072Z",
          "shell.execute_reply": "2024-09-27T09:38:30.081364Z"
        },
        "trusted": true,
        "id": "RMo3FORPpwmR"
      },
      "execution_count": null,
      "outputs": []
    },
    {
      "cell_type": "markdown",
      "source": [
        "To compare different approaches to dealing with missing values, you'll use the same `score_dataset()` function from the tutorial.  This function reports the [mean absolute error](https://en.wikipedia.org/wiki/Mean_absolute_error) (MAE) from a random forest model."
      ],
      "metadata": {
        "id": "6kfBQZx1pwmS"
      }
    },
    {
      "cell_type": "code",
      "source": [
        "from sklearn.ensemble import RandomForestRegressor\n",
        "from sklearn.metrics import mean_absolute_error\n",
        "\n",
        "# Function for comparing different approaches\n",
        "def score_dataset(X_train, X_valid, y_train, y_valid):\n",
        "    model = RandomForestRegressor(n_estimators=100, random_state=0)\n",
        "    model.fit(X_train, y_train)\n",
        "    preds = model.predict(X_valid)\n",
        "    return mean_absolute_error(y_valid, preds)"
      ],
      "metadata": {
        "execution": {
          "iopub.status.busy": "2024-09-27T09:38:30.08556Z",
          "iopub.execute_input": "2024-09-27T09:38:30.086003Z",
          "iopub.status.idle": "2024-09-27T09:38:30.097599Z",
          "shell.execute_reply.started": "2024-09-27T09:38:30.085961Z",
          "shell.execute_reply": "2024-09-27T09:38:30.096171Z"
        },
        "trusted": true,
        "id": "wPBTzRGwpwmS"
      },
      "execution_count": null,
      "outputs": []
    },
    {
      "cell_type": "markdown",
      "source": [
        "# Step 2: Drop columns with missing values\n",
        "\n",
        "In this step, you'll preprocess the data in `X_train` and `X_valid` to remove columns with missing values.  Set the preprocessed DataFrames to `reduced_X_train` and `reduced_X_valid`, respectively.  "
      ],
      "metadata": {
        "id": "RxMMzFSNpwmS"
      }
    },
    {
      "cell_type": "code",
      "source": [
        "# Fill in the line below: get names of columns with missing values\n",
        "data_null = X_train.loc[:, X_train.isnull().sum() > 0]\n",
        "data_null.columns"
      ],
      "metadata": {
        "execution": {
          "iopub.status.busy": "2024-09-27T09:38:30.099247Z",
          "iopub.execute_input": "2024-09-27T09:38:30.099626Z",
          "iopub.status.idle": "2024-09-27T09:38:30.115078Z",
          "shell.execute_reply.started": "2024-09-27T09:38:30.099582Z",
          "shell.execute_reply": "2024-09-27T09:38:30.113571Z"
        },
        "trusted": true,
        "id": "ncQ_mvRYpwmS"
      },
      "execution_count": null,
      "outputs": []
    },
    {
      "cell_type": "code",
      "source": [
        "# Fill in the line below: get names of columns with missing values\n",
        "data_null = X_train.loc[:, X_train.isnull().sum() > 0]\n",
        "col_null = data_null.columns\n",
        "\n",
        "# Fill in the lines below: drop columns in training and validation data\n",
        "reduced_X_train = X_train.drop(col_null, axis=1)\n",
        "reduced_X_valid = X_valid.drop(col_null, axis=1)\n",
        "\n",
        "# Check your answers\n",
        "step_2.check()"
      ],
      "metadata": {
        "execution": {
          "iopub.status.busy": "2024-09-27T09:38:30.122414Z",
          "iopub.execute_input": "2024-09-27T09:38:30.122889Z",
          "iopub.status.idle": "2024-09-27T09:38:30.147925Z",
          "shell.execute_reply.started": "2024-09-27T09:38:30.122839Z",
          "shell.execute_reply": "2024-09-27T09:38:30.146736Z"
        },
        "trusted": true,
        "id": "qWZdO0a1pwmS"
      },
      "execution_count": null,
      "outputs": []
    },
    {
      "cell_type": "code",
      "source": [
        "# Lines below will give you a hint or solution code\n",
        "#step_2.hint()\n",
        "#step_2.solution()"
      ],
      "metadata": {
        "execution": {
          "iopub.status.busy": "2024-09-27T09:38:30.150601Z",
          "iopub.execute_input": "2024-09-27T09:38:30.151457Z",
          "iopub.status.idle": "2024-09-27T09:38:30.156367Z",
          "shell.execute_reply.started": "2024-09-27T09:38:30.151404Z",
          "shell.execute_reply": "2024-09-27T09:38:30.155267Z"
        },
        "trusted": true,
        "id": "Gz_EUo9tpwmS"
      },
      "execution_count": null,
      "outputs": []
    },
    {
      "cell_type": "markdown",
      "source": [
        "Run the next code cell without changes to obtain the MAE for this approach."
      ],
      "metadata": {
        "id": "bKYj6K_opwmS"
      }
    },
    {
      "cell_type": "code",
      "source": [
        "print(\"MAE (Drop columns with missing values):\")\n",
        "print(score_dataset(reduced_X_train, reduced_X_valid, y_train, y_valid))"
      ],
      "metadata": {
        "execution": {
          "iopub.status.busy": "2024-09-27T09:38:30.157769Z",
          "iopub.execute_input": "2024-09-27T09:38:30.158146Z",
          "iopub.status.idle": "2024-09-27T09:38:31.459031Z",
          "shell.execute_reply.started": "2024-09-27T09:38:30.158096Z",
          "shell.execute_reply": "2024-09-27T09:38:31.457373Z"
        },
        "trusted": true,
        "id": "_NLSBKJWpwmS"
      },
      "execution_count": null,
      "outputs": []
    },
    {
      "cell_type": "markdown",
      "source": [
        "# Step 3: Imputation\n",
        "\n",
        "### Part A\n",
        "\n",
        "Use the next code cell to impute missing values with the mean value along each column.  Set the preprocessed DataFrames to `imputed_X_train` and `imputed_X_valid`.  Make sure that the column names match those in `X_train` and `X_valid`."
      ],
      "metadata": {
        "id": "5pAUWJqdpwmT"
      }
    },
    {
      "cell_type": "code",
      "source": [
        "from sklearn.impute import SimpleImputer\n",
        "\n",
        "# Fill in the lines below: imputation\n",
        "imputer = SimpleImputer()\n",
        "imputed_X_train = pd.DataFrame(imputer.fit_transform(X_train))\n",
        "imputed_X_valid = pd.DataFrame(imputer.transform(X_valid))\n",
        "imputed_X_valid"
      ],
      "metadata": {
        "execution": {
          "iopub.status.busy": "2024-09-27T09:38:31.460744Z",
          "iopub.execute_input": "2024-09-27T09:38:31.461182Z",
          "iopub.status.idle": "2024-09-27T09:38:31.512977Z",
          "shell.execute_reply.started": "2024-09-27T09:38:31.461141Z",
          "shell.execute_reply": "2024-09-27T09:38:31.511757Z"
        },
        "trusted": true,
        "id": "1slTHMNTpwmU"
      },
      "execution_count": null,
      "outputs": []
    },
    {
      "cell_type": "code",
      "source": [
        "from sklearn.impute import SimpleImputer\n",
        "\n",
        "# Fill in the lines below: imputation\n",
        "imputer = SimpleImputer()\n",
        "imputed_X_train = pd.DataFrame(imputer.fit_transform(X_train))\n",
        "imputed_X_valid = pd.DataFrame(imputer.transform(X_valid))\n",
        "\n",
        "# Fill in the lines below: imputation removed column names; put them back\n",
        "imputed_X_train.columns = X_train.columns\n",
        "imputed_X_valid.columns = X_train.columns\n",
        "\n",
        "# Check your answers\n",
        "step_3.a.check()"
      ],
      "metadata": {
        "execution": {
          "iopub.status.busy": "2024-09-27T09:38:31.516085Z",
          "iopub.execute_input": "2024-09-27T09:38:31.516507Z",
          "iopub.status.idle": "2024-09-27T09:38:31.5492Z",
          "shell.execute_reply.started": "2024-09-27T09:38:31.516468Z",
          "shell.execute_reply": "2024-09-27T09:38:31.548049Z"
        },
        "trusted": true,
        "id": "TAH0WXrxpwmU"
      },
      "execution_count": null,
      "outputs": []
    },
    {
      "cell_type": "code",
      "source": [
        "# Lines below will give you a hint or solution code\n",
        "#step_3.a.hint()\n",
        "#step_3.a.solution()"
      ],
      "metadata": {
        "execution": {
          "iopub.status.busy": "2024-09-27T09:38:31.550516Z",
          "iopub.execute_input": "2024-09-27T09:38:31.550914Z",
          "iopub.status.idle": "2024-09-27T09:38:31.555611Z",
          "shell.execute_reply.started": "2024-09-27T09:38:31.550877Z",
          "shell.execute_reply": "2024-09-27T09:38:31.554414Z"
        },
        "trusted": true,
        "id": "OYitSJtMpwmU"
      },
      "execution_count": null,
      "outputs": []
    },
    {
      "cell_type": "markdown",
      "source": [
        "Run the next code cell without changes to obtain the MAE for this approach."
      ],
      "metadata": {
        "id": "ORbJPKbEpwmU"
      }
    },
    {
      "cell_type": "code",
      "source": [
        "print(\"MAE (Imputation):\")\n",
        "print(score_dataset(imputed_X_train, imputed_X_valid, y_train, y_valid))"
      ],
      "metadata": {
        "execution": {
          "iopub.status.busy": "2024-09-27T09:38:31.557359Z",
          "iopub.execute_input": "2024-09-27T09:38:31.55792Z",
          "iopub.status.idle": "2024-09-27T09:38:32.980409Z",
          "shell.execute_reply.started": "2024-09-27T09:38:31.557868Z",
          "shell.execute_reply": "2024-09-27T09:38:32.97925Z"
        },
        "trusted": true,
        "id": "37dYYWUTpwmU"
      },
      "execution_count": null,
      "outputs": []
    },
    {
      "cell_type": "markdown",
      "source": [
        "### Part B\n",
        "\n",
        "Compare the MAE from each approach.  Does anything surprise you about the results?  Why do you think one approach performed better than the other?"
      ],
      "metadata": {
        "id": "_owmhh4WpwmU"
      }
    },
    {
      "cell_type": "code",
      "source": [
        "# Check your answer (Run this code cell to receive credit!)\n",
        "step_3.b.check()"
      ],
      "metadata": {
        "execution": {
          "iopub.status.busy": "2024-09-27T09:38:32.982081Z",
          "iopub.execute_input": "2024-09-27T09:38:32.982461Z",
          "iopub.status.idle": "2024-09-27T09:38:32.990801Z",
          "shell.execute_reply.started": "2024-09-27T09:38:32.982423Z",
          "shell.execute_reply": "2024-09-27T09:38:32.989735Z"
        },
        "trusted": true,
        "id": "s2KjIZOCpwmV"
      },
      "execution_count": null,
      "outputs": []
    },
    {
      "cell_type": "code",
      "source": [
        "#step_3.b.hint()"
      ],
      "metadata": {
        "execution": {
          "iopub.status.busy": "2024-09-27T09:38:32.992429Z",
          "iopub.execute_input": "2024-09-27T09:38:32.992999Z",
          "iopub.status.idle": "2024-09-27T09:38:32.998975Z",
          "shell.execute_reply.started": "2024-09-27T09:38:32.992949Z",
          "shell.execute_reply": "2024-09-27T09:38:32.997541Z"
        },
        "trusted": true,
        "id": "FA9YfJzxpwmV"
      },
      "execution_count": null,
      "outputs": []
    },
    {
      "cell_type": "markdown",
      "source": [
        "# Step 4: Generate test predictions\n",
        "\n",
        "In this final step, you'll use any approach of your choosing to deal with missing values.  Once you've preprocessed the training and validation features, you'll train and evaluate a random forest model.  Then, you'll preprocess the test data before generating predictions that can be submitted to the competition!\n",
        "\n",
        "### Part A\n",
        "\n",
        "Use the next code cell to preprocess the training and validation data.  Set the preprocessed DataFrames to `final_X_train` and `final_X_valid`.  **You can use any approach of your choosing here!**  in order for this step to be marked as correct, you need only ensure:\n",
        "- the preprocessed DataFrames have the same number of columns,\n",
        "- the preprocessed DataFrames have no missing values,\n",
        "- `final_X_train` and `y_train` have the same number of rows, and\n",
        "- `final_X_valid` and `y_valid` have the same number of rows."
      ],
      "metadata": {
        "id": "dCm0LQoSpwmV"
      }
    },
    {
      "cell_type": "markdown",
      "source": [
        "#### An Extension to Imputation"
      ],
      "metadata": {
        "id": "B23rCv1FpwmV"
      }
    },
    {
      "cell_type": "code",
      "source": [
        "data_null = X_train.loc[:, X_train.isnull().sum() > 0]\n",
        "col_null = data_null.columns\n",
        "\n",
        "# Make copy to avoid changing original data (when imputing)\n",
        "X_train_plus = X_train.copy()\n",
        "X_valid_plus = X_valid.copy()\n",
        "\n",
        "for col in col_null:\n",
        "    X_train_plus[col + '_was_missing'] =  X_train[col].isnull()\n",
        "    X_valid_plus[col + '_was_missing'] =  X_valid[col].isnull()\n",
        "\n",
        "# Imputation\n",
        "imputer = SimpleImputer()\n",
        "imputed_X_train_plus = pd.DataFrame(imputer.fit_transform(X_train_plus))\n",
        "imputed_X_valid_plus = pd.DataFrame(imputer.transform(X_valid_plus))\n",
        "\n",
        "imputed_X_train_plus.columns = X_train_plus.columns\n",
        "imputed_X_valid_plus.columns = X_valid_plus.columns\n",
        "\n",
        "imputed_X_train_plus"
      ],
      "metadata": {
        "execution": {
          "iopub.status.busy": "2024-09-27T09:38:33.000314Z",
          "iopub.execute_input": "2024-09-27T09:38:33.000684Z",
          "iopub.status.idle": "2024-09-27T09:38:33.065555Z",
          "shell.execute_reply.started": "2024-09-27T09:38:33.000631Z",
          "shell.execute_reply": "2024-09-27T09:38:33.064426Z"
        },
        "trusted": true,
        "id": "88uxRxmspwmV"
      },
      "execution_count": null,
      "outputs": []
    },
    {
      "cell_type": "code",
      "source": [
        "# Preprocessed training and validation features\n",
        "final_X_train = reduced_X_train\n",
        "final_X_valid = reduced_X_valid\n",
        "\n",
        "# Check your answers\n",
        "step_4.a.check()"
      ],
      "metadata": {
        "execution": {
          "iopub.status.busy": "2024-09-27T09:38:33.066798Z",
          "iopub.execute_input": "2024-09-27T09:38:33.067128Z",
          "iopub.status.idle": "2024-09-27T09:38:33.083868Z",
          "shell.execute_reply.started": "2024-09-27T09:38:33.067086Z",
          "shell.execute_reply": "2024-09-27T09:38:33.082493Z"
        },
        "trusted": true,
        "id": "dCK4PWGUpwmV"
      },
      "execution_count": null,
      "outputs": []
    },
    {
      "cell_type": "code",
      "source": [
        "# Lines below will give you a hint or solution code\n",
        "#step_4.a.hint()\n",
        "#step_4.a.solution()"
      ],
      "metadata": {
        "execution": {
          "iopub.status.busy": "2024-09-27T09:38:33.085547Z",
          "iopub.execute_input": "2024-09-27T09:38:33.086744Z",
          "iopub.status.idle": "2024-09-27T09:38:33.09381Z",
          "shell.execute_reply.started": "2024-09-27T09:38:33.086695Z",
          "shell.execute_reply": "2024-09-27T09:38:33.092564Z"
        },
        "trusted": true,
        "id": "LNJ3ranRpwmV"
      },
      "execution_count": null,
      "outputs": []
    },
    {
      "cell_type": "markdown",
      "source": [
        "Run the next code cell to train and evaluate a random forest model.  (*Note that we don't use the `score_dataset()` function above, because we will soon use the trained model to generate test predictions!*)"
      ],
      "metadata": {
        "id": "AaCjb6_ZpwmV"
      }
    },
    {
      "cell_type": "code",
      "source": [
        "# Define and fit model\n",
        "model = RandomForestRegressor(n_estimators=100, random_state=0)\n",
        "model.fit(final_X_train, y_train)\n",
        "\n",
        "# Get validation predictions and MAE\n",
        "preds_valid = model.predict(final_X_valid)\n",
        "print(\"MAE (Your approach):\")\n",
        "print(mean_absolute_error(y_valid, preds_valid))"
      ],
      "metadata": {
        "execution": {
          "iopub.status.busy": "2024-09-27T09:38:33.09527Z",
          "iopub.execute_input": "2024-09-27T09:38:33.095677Z",
          "iopub.status.idle": "2024-09-27T09:38:34.368307Z",
          "shell.execute_reply.started": "2024-09-27T09:38:33.095588Z",
          "shell.execute_reply": "2024-09-27T09:38:34.367045Z"
        },
        "trusted": true,
        "id": "If_j0YRbpwmY"
      },
      "execution_count": null,
      "outputs": []
    },
    {
      "cell_type": "markdown",
      "source": [
        "### Part B\n",
        "\n",
        "Use the next code cell to preprocess your test data.  Make sure that you use a method that agrees with how you preprocessed the training and validation data, and set the preprocessed test features to `final_X_test`.\n",
        "\n",
        "Then, use the preprocessed test features and the trained model to generate test predictions in `preds_test`.\n",
        "\n",
        "In order for this step to be marked correct, you need only ensure:\n",
        "- the preprocessed test DataFrame has no missing values, and\n",
        "- `final_X_test` has the same number of rows as `X_test`."
      ],
      "metadata": {
        "id": "mP3-9UXfpwmY"
      }
    },
    {
      "cell_type": "markdown",
      "source": [
        "Y tưởng : kết hợp drop và imputer"
      ],
      "metadata": {
        "id": "Vs02A16XpwmY"
      }
    },
    {
      "cell_type": "code",
      "source": [
        "X_test_copy = X_test.copy()\n",
        "\n",
        "imputer = SimpleImputer()\n",
        "imputer.fit(reduced_X_train)\n",
        "\n",
        "X_test_drop = X_test_copy.drop(col_null, axis = 1)\n",
        "X_test_imputed = pd.DataFrame(imputer.transform(X_test_drop))\n",
        "X_test_imputed.columns = X_test_drop.columns"
      ],
      "metadata": {
        "execution": {
          "iopub.status.busy": "2024-09-27T09:43:30.703971Z",
          "iopub.execute_input": "2024-09-27T09:43:30.704425Z",
          "iopub.status.idle": "2024-09-27T09:43:30.72127Z",
          "shell.execute_reply.started": "2024-09-27T09:43:30.704386Z",
          "shell.execute_reply": "2024-09-27T09:43:30.719915Z"
        },
        "trusted": true,
        "id": "GSVBFfOzpwmY"
      },
      "execution_count": null,
      "outputs": []
    },
    {
      "cell_type": "code",
      "source": [
        "final_X_test = X_test_imputed\n",
        "\n",
        "# Fill in the line below: get test predictions\n",
        "preds_test = model.predict(final_X_test)\n",
        "\n",
        "# Check your answers\n",
        "step_4.b.check()"
      ],
      "metadata": {
        "execution": {
          "iopub.status.busy": "2024-09-27T09:44:09.336899Z",
          "iopub.execute_input": "2024-09-27T09:44:09.337335Z",
          "iopub.status.idle": "2024-09-27T09:44:09.382696Z",
          "shell.execute_reply.started": "2024-09-27T09:44:09.337293Z",
          "shell.execute_reply": "2024-09-27T09:44:09.381328Z"
        },
        "trusted": true,
        "id": "TypuVcHupwmY"
      },
      "execution_count": null,
      "outputs": []
    },
    {
      "cell_type": "code",
      "source": [
        "# Lines below will give you a hint or solution code\n",
        "#step_4.b.hint()\n",
        "#step_4.b.solution()"
      ],
      "metadata": {
        "execution": {
          "iopub.status.busy": "2024-09-27T09:38:34.511709Z",
          "iopub.status.idle": "2024-09-27T09:38:34.512368Z",
          "shell.execute_reply.started": "2024-09-27T09:38:34.512036Z",
          "shell.execute_reply": "2024-09-27T09:38:34.512085Z"
        },
        "trusted": true,
        "id": "l2yVAiPNpwmZ"
      },
      "execution_count": null,
      "outputs": []
    },
    {
      "cell_type": "markdown",
      "source": [
        "Run the next code cell without changes to save your results to a CSV file that can be submitted directly to the competition."
      ],
      "metadata": {
        "id": "gZGa021npwmZ"
      }
    },
    {
      "cell_type": "code",
      "source": [
        "# Save test predictions to file\n",
        "output = pd.DataFrame({'Id': X_test.index,\n",
        "                       'SalePrice': preds_test})\n",
        "output.to_csv('submission.csv', index=False)"
      ],
      "metadata": {
        "execution": {
          "iopub.status.busy": "2024-09-27T09:44:12.848098Z",
          "iopub.execute_input": "2024-09-27T09:44:12.84872Z",
          "iopub.status.idle": "2024-09-27T09:44:12.860599Z",
          "shell.execute_reply.started": "2024-09-27T09:44:12.848649Z",
          "shell.execute_reply": "2024-09-27T09:44:12.859271Z"
        },
        "trusted": true,
        "id": "B9x-fxDNpwmZ"
      },
      "execution_count": null,
      "outputs": []
    },
    {
      "cell_type": "markdown",
      "source": [
        "# Submit your results\n",
        "\n",
        "Once you have successfully completed Step 4, you're ready to submit your results to the leaderboard!  (_You also learned how to do this in the previous exercise.  If you need a reminder of how to do this, please use the instructions below._)  \n",
        "\n",
        "First, you'll need to join the competition if you haven't already.  So open a new window by clicking on [this link](https://www.kaggle.com/c/home-data-for-ml-course).  Then click on the **Join Competition** button.\n",
        "\n",
        "![join competition image](https://storage.googleapis.com/kaggle-media/learn/images/wLmFtH3.png)\n",
        "\n",
        "Next, follow the instructions below:\n",
        "1. Begin by clicking on the **Save Version** button in the top right corner of the window.  This will generate a pop-up window.  \n",
        "2. Ensure that the **Save and Run All** option is selected, and then click on the **Save** button.\n",
        "3. This generates a window in the bottom left corner of the notebook.  After it has finished running, click on the number to the right of the **Save Version** button.  This pulls up a list of versions on the right of the screen.  Click on the ellipsis **(...)** to the right of the most recent version, and select **Open in Viewer**.  This brings you into view mode of the same page. You will need to scroll down to get back to these instructions.\n",
        "4. Click on the **Data** tab near the top of the screen.  Then, click on the file you would like to submit, and click on the **Submit** button to submit your results to the leaderboard.\n",
        "\n",
        "You have now successfully submitted to the competition!\n",
        "\n",
        "If you want to keep working to improve your performance, select the **Edit** button in the top right of the screen. Then you can change your code and repeat the process. There's a lot of room to improve, and you will climb up the leaderboard as you work.\n",
        "\n",
        "\n",
        "# Keep going\n",
        "\n",
        "Move on to learn what **[categorical variables](https://www.kaggle.com/alexisbcook/categorical-variables)** are, along with how to incorporate them into your machine learning models.  Categorical variables are very common in real-world data, but you'll get an error if you try to plug them into your models without processing them first!"
      ],
      "metadata": {
        "id": "p5n_dgR4pwmZ"
      }
    },
    {
      "cell_type": "markdown",
      "source": [
        "---\n",
        "\n",
        "\n",
        "\n",
        "\n",
        "*Have questions or comments? Visit the [course discussion forum](https://www.kaggle.com/learn/intermediate-machine-learning/discussion) to chat with other learners.*"
      ],
      "metadata": {
        "id": "ugsUUZjKpwmZ"
      }
    }
  ]
}