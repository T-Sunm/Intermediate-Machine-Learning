{
  "metadata": {
    "kernelspec": {
      "display_name": "Python 3",
      "language": "python",
      "name": "python3"
    },
    "language_info": {
      "name": "python",
      "version": "3.10.14",
      "mimetype": "text/x-python",
      "codemirror_mode": {
        "name": "ipython",
        "version": 3
      },
      "pygments_lexer": "ipython3",
      "nbconvert_exporter": "python",
      "file_extension": ".py"
    },
    "kaggle": {
      "accelerator": "none",
      "dataSources": [
        {
          "sourceId": 10211,
          "databundleVersionId": 111096,
          "sourceType": "competition"
        }
      ],
      "isInternetEnabled": false,
      "language": "python",
      "sourceType": "notebook",
      "isGpuEnabled": false
    },
    "colab": {
      "name": "Exercise: Cross-Validation",
      "provenance": [],
      "include_colab_link": true
    }
  },
  "nbformat_minor": 0,
  "nbformat": 4,
  "cells": [
    {
      "cell_type": "markdown",
      "metadata": {
        "id": "view-in-github",
        "colab_type": "text"
      },
      "source": [
        "<a href=\"https://colab.research.google.com/github/T-Sunm/Intermediate-Machine-Learning-Kaggle/blob/main/Exercise_Cross_Validation.ipynb\" target=\"_parent\"><img src=\"https://colab.research.google.com/assets/colab-badge.svg\" alt=\"Open In Colab\"/></a>"
      ]
    },
    {
      "source": [
        "\n",
        "# IMPORTANT: RUN THIS CELL IN ORDER TO IMPORT YOUR KAGGLE DATA SOURCES\n",
        "# TO THE CORRECT LOCATION (/kaggle/input) IN YOUR NOTEBOOK,\n",
        "# THEN FEEL FREE TO DELETE THIS CELL.\n",
        "# NOTE: THIS NOTEBOOK ENVIRONMENT DIFFERS FROM KAGGLE'S PYTHON\n",
        "# ENVIRONMENT SO THERE MAY BE MISSING LIBRARIES USED BY YOUR\n",
        "# NOTEBOOK.\n",
        "\n",
        "import os\n",
        "import sys\n",
        "from tempfile import NamedTemporaryFile\n",
        "from urllib.request import urlopen\n",
        "from urllib.parse import unquote, urlparse\n",
        "from urllib.error import HTTPError\n",
        "from zipfile import ZipFile\n",
        "import tarfile\n",
        "import shutil\n",
        "\n",
        "CHUNK_SIZE = 40960\n",
        "DATA_SOURCE_MAPPING = ':https%3A%2F%2Fstorage.googleapis.com%2Fkaggle-competitions-data%2Fkaggle-v2%2F10211%2F111096%2Fbundle%2Farchive.zip%3FX-Goog-Algorithm%3DGOOG4-RSA-SHA256%26X-Goog-Credential%3Dgcp-kaggle-com%2540kaggle-161607.iam.gserviceaccount.com%252F20241005%252Fauto%252Fstorage%252Fgoog4_request%26X-Goog-Date%3D20241005T153624Z%26X-Goog-Expires%3D259200%26X-Goog-SignedHeaders%3Dhost%26X-Goog-Signature%3D57837c99d63e755c05279e8f385a796d33ae6f871440b14ad9f8c2905a19bd7e475fd2b26fdc45ea3c14326b0e18e9264e5ad1249b9c03ba22107dc30e42a04a88719d6b73fa8b9d0933ae8c689d996416a15555043f904037af14b952b8a89500b4dca4d152cc262a239bf61c0b8cca3058dab110ea121c719590961b58b91c81530401304a90958fbb4826c043fa793b6708046d9073b7af0b70e0ee85f22e96e32b2ea136fc4918e0e0e24a140579507f92f5c41e1559992518d7b1f0ef71ad3689df37464d670e5814e5c66b30914ae2e8de97ec10529978236c447b60265a5655751aa34e09e1842fabb5de590783ea376056d1f50b23ef5dd0e8fdbfa0'\n",
        "\n",
        "KAGGLE_INPUT_PATH='/kaggle/input'\n",
        "KAGGLE_WORKING_PATH='/kaggle/working'\n",
        "KAGGLE_SYMLINK='kaggle'\n",
        "\n",
        "!umount /kaggle/input/ 2> /dev/null\n",
        "shutil.rmtree('/kaggle/input', ignore_errors=True)\n",
        "os.makedirs(KAGGLE_INPUT_PATH, 0o777, exist_ok=True)\n",
        "os.makedirs(KAGGLE_WORKING_PATH, 0o777, exist_ok=True)\n",
        "\n",
        "try:\n",
        "  os.symlink(KAGGLE_INPUT_PATH, os.path.join(\"..\", 'input'), target_is_directory=True)\n",
        "except FileExistsError:\n",
        "  pass\n",
        "try:\n",
        "  os.symlink(KAGGLE_WORKING_PATH, os.path.join(\"..\", 'working'), target_is_directory=True)\n",
        "except FileExistsError:\n",
        "  pass\n",
        "\n",
        "for data_source_mapping in DATA_SOURCE_MAPPING.split(','):\n",
        "    directory, download_url_encoded = data_source_mapping.split(':')\n",
        "    download_url = unquote(download_url_encoded)\n",
        "    filename = urlparse(download_url).path\n",
        "    destination_path = os.path.join(KAGGLE_INPUT_PATH, directory)\n",
        "    try:\n",
        "        with urlopen(download_url) as fileres, NamedTemporaryFile() as tfile:\n",
        "            total_length = fileres.headers['content-length']\n",
        "            print(f'Downloading {directory}, {total_length} bytes compressed')\n",
        "            dl = 0\n",
        "            data = fileres.read(CHUNK_SIZE)\n",
        "            while len(data) > 0:\n",
        "                dl += len(data)\n",
        "                tfile.write(data)\n",
        "                done = int(50 * dl / int(total_length))\n",
        "                sys.stdout.write(f\"\\r[{'=' * done}{' ' * (50-done)}] {dl} bytes downloaded\")\n",
        "                sys.stdout.flush()\n",
        "                data = fileres.read(CHUNK_SIZE)\n",
        "            if filename.endswith('.zip'):\n",
        "              with ZipFile(tfile) as zfile:\n",
        "                zfile.extractall(destination_path)\n",
        "            else:\n",
        "              with tarfile.open(tfile.name) as tarfile:\n",
        "                tarfile.extractall(destination_path)\n",
        "            print(f'\\nDownloaded and uncompressed: {directory}')\n",
        "    except HTTPError as e:\n",
        "        print(f'Failed to load (likely expired) {download_url} to path {destination_path}')\n",
        "        continue\n",
        "    except OSError as e:\n",
        "        print(f'Failed to load {download_url} to path {destination_path}')\n",
        "        continue\n",
        "\n",
        "print('Data source import complete.')\n"
      ],
      "metadata": {
        "id": "BArdNz79Uz-a"
      },
      "cell_type": "code",
      "outputs": [],
      "execution_count": null
    },
    {
      "cell_type": "markdown",
      "source": [
        "**This notebook is an exercise in the [Intermediate Machine Learning](https://www.kaggle.com/learn/intermediate-machine-learning) course.  You can reference the tutorial at [this link](https://www.kaggle.com/alexisbcook/cross-validation).**\n",
        "\n",
        "---\n"
      ],
      "metadata": {
        "id": "f9beZJSTUz-c"
      }
    },
    {
      "cell_type": "markdown",
      "source": [
        "In this exercise, you will leverage what you've learned to tune a machine learning model with **cross-validation**.\n",
        "\n",
        "# Setup\n",
        "\n",
        "The questions below will give you feedback on your work. Run the following cell to set up the feedback system."
      ],
      "metadata": {
        "id": "rfykko97Uz-d"
      }
    },
    {
      "cell_type": "code",
      "source": [
        "# Set up code checking\n",
        "import os\n",
        "if not os.path.exists(\"../input/train.csv\"):\n",
        "    os.symlink(\"../input/home-data-for-ml-course/train.csv\", \"../input/train.csv\")\n",
        "    os.symlink(\"../input/home-data-for-ml-course/test.csv\", \"../input/test.csv\")\n",
        "from learntools.core import binder\n",
        "binder.bind(globals())\n",
        "from learntools.ml_intermediate.ex5 import *\n",
        "print(\"Setup Complete\")"
      ],
      "metadata": {
        "execution": {
          "iopub.status.busy": "2024-09-28T16:19:54.725845Z",
          "iopub.execute_input": "2024-09-28T16:19:54.726411Z",
          "iopub.status.idle": "2024-09-28T16:19:54.735842Z",
          "shell.execute_reply.started": "2024-09-28T16:19:54.72637Z",
          "shell.execute_reply": "2024-09-28T16:19:54.734549Z"
        },
        "trusted": true,
        "id": "QTgtDzY3Uz-d"
      },
      "execution_count": null,
      "outputs": []
    },
    {
      "cell_type": "markdown",
      "source": [
        "You will work with the [Housing Prices Competition for Kaggle Learn Users](https://www.kaggle.com/c/home-data-for-ml-course) from the previous exercise.\n",
        "\n",
        "![Ames Housing dataset image](https://storage.googleapis.com/kaggle-media/learn/images/lTJVG4e.png)\n",
        "\n",
        "Run the next code cell without changes to load the training and test data in `X` and `X_test`.  For simplicity, we drop categorical variables."
      ],
      "metadata": {
        "id": "u555eYBjUz-e"
      }
    },
    {
      "cell_type": "code",
      "source": [
        "import pandas as pd\n",
        "from sklearn.model_selection import train_test_split\n",
        "\n",
        "# Read the data\n",
        "train_data = pd.read_csv('../input/train.csv', index_col='Id')\n",
        "test_data = pd.read_csv('../input/test.csv', index_col='Id')\n",
        "\n",
        "# Remove rows with missing target, separate target from predictors\n",
        "train_data.dropna(axis=0, subset=['SalePrice'], inplace=True)\n",
        "y = train_data.SalePrice\n",
        "train_data.drop(['SalePrice'], axis=1, inplace=True)\n",
        "\n",
        "# Select numeric columns only\n",
        "numeric_cols = [cname for cname in train_data.columns if train_data[cname].dtype in ['int64', 'float64']]\n",
        "X = train_data[numeric_cols].copy()\n",
        "X_test = test_data[numeric_cols].copy()"
      ],
      "metadata": {
        "execution": {
          "iopub.status.busy": "2024-09-28T16:19:56.381443Z",
          "iopub.execute_input": "2024-09-28T16:19:56.381851Z",
          "iopub.status.idle": "2024-09-28T16:19:57.17015Z",
          "shell.execute_reply.started": "2024-09-28T16:19:56.381814Z",
          "shell.execute_reply": "2024-09-28T16:19:57.16866Z"
        },
        "trusted": true,
        "id": "KJM9Qp2eUz-e"
      },
      "execution_count": null,
      "outputs": []
    },
    {
      "cell_type": "markdown",
      "source": [
        "Use the next code cell to print the first several rows of the data."
      ],
      "metadata": {
        "id": "IIyUfk9CUz-e"
      }
    },
    {
      "cell_type": "code",
      "source": [
        "X.head()"
      ],
      "metadata": {
        "execution": {
          "iopub.status.busy": "2024-09-28T16:19:58.046538Z",
          "iopub.execute_input": "2024-09-28T16:19:58.047002Z",
          "iopub.status.idle": "2024-09-28T16:19:58.080378Z",
          "shell.execute_reply.started": "2024-09-28T16:19:58.046952Z",
          "shell.execute_reply": "2024-09-28T16:19:58.079065Z"
        },
        "trusted": true,
        "id": "tHHf7lJmUz-e"
      },
      "execution_count": null,
      "outputs": []
    },
    {
      "cell_type": "markdown",
      "source": [
        "So far, you've learned how to build pipelines with scikit-learn.  For instance, the pipeline below will use [`SimpleImputer()`](https://scikit-learn.org/stable/modules/generated/sklearn.impute.SimpleImputer.html) to replace missing values in the data, before using [`RandomForestRegressor()`](https://scikit-learn.org/stable/modules/generated/sklearn.ensemble.RandomForestRegressor.html) to train a random forest model to make predictions.  We set the number of trees in the random forest model with the `n_estimators` parameter, and setting `random_state` ensures reproducibility."
      ],
      "metadata": {
        "id": "TqpUmIWcUz-f"
      }
    },
    {
      "cell_type": "code",
      "source": [
        "from sklearn.ensemble import RandomForestRegressor\n",
        "from sklearn.pipeline import Pipeline\n",
        "from sklearn.impute import SimpleImputer\n",
        "\n",
        "my_pipeline = Pipeline(steps=[\n",
        "    ('preprocessor', SimpleImputer()),\n",
        "    ('model', RandomForestRegressor(n_estimators=50, random_state=0))\n",
        "])"
      ],
      "metadata": {
        "execution": {
          "iopub.status.busy": "2024-09-28T16:21:33.166791Z",
          "iopub.execute_input": "2024-09-28T16:21:33.167151Z",
          "iopub.status.idle": "2024-09-28T16:21:33.173375Z",
          "shell.execute_reply.started": "2024-09-28T16:21:33.167114Z",
          "shell.execute_reply": "2024-09-28T16:21:33.171867Z"
        },
        "trusted": true,
        "id": "hUIODc9_Uz-f"
      },
      "execution_count": null,
      "outputs": []
    },
    {
      "cell_type": "markdown",
      "source": [
        "You have also learned how to use pipelines in cross-validation.  The code below uses the [`cross_val_score()`](https://scikit-learn.org/stable/modules/generated/sklearn.model_selection.cross_val_score.html) function to obtain the mean absolute error (MAE), averaged across five different folds.  Recall we set the number of folds with the `cv` parameter."
      ],
      "metadata": {
        "id": "KCvmx2WPUz-f"
      }
    },
    {
      "cell_type": "code",
      "source": [
        "from sklearn.model_selection import cross_val_score\n",
        "\n",
        "# Multiply by -1 since sklearn calculates *negative* MAE\n",
        "scores = -1 * cross_val_score(my_pipeline, X, y,\n",
        "                              cv=5,\n",
        "                              scoring='neg_mean_absolute_error')\n",
        "\n",
        "print(\"Average MAE score:\", scores.mean())"
      ],
      "metadata": {
        "execution": {
          "iopub.status.busy": "2024-09-28T16:21:29.609505Z",
          "iopub.execute_input": "2024-09-28T16:21:29.609977Z",
          "iopub.status.idle": "2024-09-28T16:21:33.165022Z",
          "shell.execute_reply.started": "2024-09-28T16:21:29.609933Z",
          "shell.execute_reply": "2024-09-28T16:21:33.163908Z"
        },
        "trusted": true,
        "id": "8ipHK-r_Uz-f"
      },
      "execution_count": null,
      "outputs": []
    },
    {
      "cell_type": "markdown",
      "source": [
        "# Step 1: Write a useful function\n",
        "\n",
        "In this exercise, you'll use cross-validation to select parameters for a machine learning model.\n",
        "\n",
        "Begin by writing a function `get_score()` that reports the average (over three cross-validation folds) MAE of a machine learning pipeline that uses:\n",
        "- the data in `X` and `y` to create folds,\n",
        "- `SimpleImputer()` (with all parameters left as default) to replace missing values, and\n",
        "- `RandomForestRegressor()` (with `random_state=0`) to fit a random forest model.\n",
        "\n",
        "The `n_estimators` parameter supplied to `get_score()` is used when setting the number of trees in the random forest model.  "
      ],
      "metadata": {
        "id": "dMHE4K6RUz-f"
      }
    },
    {
      "cell_type": "code",
      "source": [
        "# Scikit-learn's convention: Trong Scikit-learn,\n",
        "# mọi chỉ số đánh giá (metrics) đều được thiết kế sao cho số càng lớn thì mô hình càng tốt.\n",
        "# Điều này là do họ muốn giữ tính nhất quán giữa các chỉ số đánh giá,\n",
        "# cả cho các mô hình tối đa hóa (maximize) và các mô hình tối thiểu hóa (minimize).\n",
        "\n",
        "def get_score(n_estimators):\n",
        "    \"\"\"Return the average MAE over 3 CV folds of random forest model.\n",
        "\n",
        "    Keyword argument:\n",
        "    n_estimators -- the number of trees in the forest\n",
        "    \"\"\"\n",
        "    my_pipeline = Pipeline(steps=[\n",
        "        ('preprocessor', SimpleImputer()),\n",
        "        ('model', RandomForestRegressor(n_estimators = n_estimators, random_state = 0))\n",
        "    ])\n",
        "    scores = -1 * cross_val_score(my_pipeline, X, y,\n",
        "                                  cv = 3,\n",
        "                                  scoring = 'neg_mean_absolute_error')\n",
        "    return scores.mean()\n",
        "# Check your answer\n",
        "step_1.check()"
      ],
      "metadata": {
        "execution": {
          "iopub.status.busy": "2024-09-28T16:34:21.417245Z",
          "iopub.execute_input": "2024-09-28T16:34:21.417672Z",
          "iopub.status.idle": "2024-09-28T16:34:22.57844Z",
          "shell.execute_reply.started": "2024-09-28T16:34:21.417626Z",
          "shell.execute_reply": "2024-09-28T16:34:22.577225Z"
        },
        "trusted": true,
        "id": "kQoI_wS4Uz-f"
      },
      "execution_count": null,
      "outputs": []
    },
    {
      "cell_type": "code",
      "source": [
        "# Lines below will give you a hint or solution code\n",
        "#step_1.hint()\n",
        "#step_1.solution()"
      ],
      "metadata": {
        "id": "Sy0u8FhxUz-g"
      },
      "execution_count": null,
      "outputs": []
    },
    {
      "cell_type": "markdown",
      "source": [
        "# Step 2: Test different parameter values\n",
        "\n",
        "Now, you will use the function that you defined in Step 1 to evaluate the model performance corresponding to eight different values for the number of trees in the random forest: 50, 100, 150, ..., 300, 350, 400.\n",
        "\n",
        "Store your results in a Python dictionary `results`, where `results[i]` is the average MAE returned by `get_score(i)`."
      ],
      "metadata": {
        "id": "DZXdZhxkUz-g"
      }
    },
    {
      "cell_type": "code",
      "source": [
        "import numpy as np"
      ],
      "metadata": {
        "execution": {
          "iopub.status.busy": "2024-09-28T16:41:27.44232Z",
          "iopub.execute_input": "2024-09-28T16:41:27.442773Z",
          "iopub.status.idle": "2024-09-28T16:41:27.448275Z",
          "shell.execute_reply.started": "2024-09-28T16:41:27.442714Z",
          "shell.execute_reply": "2024-09-28T16:41:27.446754Z"
        },
        "trusted": true,
        "id": "aHLtdLMJUz-g"
      },
      "execution_count": null,
      "outputs": []
    },
    {
      "cell_type": "code",
      "source": [
        "numbers = np.arange(50, 401, 50)\n",
        "results = {}\n",
        "for i in range(0,8):\n",
        "    results[numbers[i]] = get_score(numbers[i])\n",
        "\n",
        "# Check your answer\n",
        "step_2.check()"
      ],
      "metadata": {
        "execution": {
          "iopub.status.busy": "2024-09-28T16:46:11.078815Z",
          "iopub.execute_input": "2024-09-28T16:46:11.079241Z",
          "iopub.status.idle": "2024-09-28T16:47:15.432422Z",
          "shell.execute_reply.started": "2024-09-28T16:46:11.079203Z",
          "shell.execute_reply": "2024-09-28T16:47:15.431319Z"
        },
        "trusted": true,
        "id": "BAtkeDncUz-g"
      },
      "execution_count": null,
      "outputs": []
    },
    {
      "cell_type": "code",
      "source": [
        "# Lines below will give you a hint or solution code\n",
        "#step_2.hint()\n",
        "# step_2.solution()"
      ],
      "metadata": {
        "execution": {
          "iopub.status.busy": "2024-09-28T16:47:19.699364Z",
          "iopub.execute_input": "2024-09-28T16:47:19.699818Z",
          "iopub.status.idle": "2024-09-28T16:47:19.705251Z",
          "shell.execute_reply.started": "2024-09-28T16:47:19.699775Z",
          "shell.execute_reply": "2024-09-28T16:47:19.703872Z"
        },
        "trusted": true,
        "id": "raUW4gVJUz-g"
      },
      "execution_count": null,
      "outputs": []
    },
    {
      "cell_type": "markdown",
      "source": [
        "Use the next cell to visualize your results from Step 2.  Run the code without changes."
      ],
      "metadata": {
        "id": "tc3Zhs6cUz-g"
      }
    },
    {
      "cell_type": "code",
      "source": [
        "import matplotlib.pyplot as plt\n",
        "%matplotlib inline\n",
        "\n",
        "plt.plot(list(results.keys()), list(results.values()))\n",
        "plt.show()"
      ],
      "metadata": {
        "execution": {
          "iopub.status.busy": "2024-09-28T16:47:21.929107Z",
          "iopub.execute_input": "2024-09-28T16:47:21.929531Z",
          "iopub.status.idle": "2024-09-28T16:47:22.161878Z",
          "shell.execute_reply.started": "2024-09-28T16:47:21.929492Z",
          "shell.execute_reply": "2024-09-28T16:47:22.160786Z"
        },
        "trusted": true,
        "id": "zG-KkCWiUz-g"
      },
      "execution_count": null,
      "outputs": []
    },
    {
      "cell_type": "markdown",
      "source": [
        "# Step 3: Find the best parameter value\n",
        "\n",
        "Given the results, which value for `n_estimators` seems best for the random forest model?  Use your answer to set the value of `n_estimators_best`."
      ],
      "metadata": {
        "id": "uXSBQNNDUz-g"
      }
    },
    {
      "cell_type": "code",
      "source": [
        "n_estimators_best = 200\n",
        "\n",
        "# Check your answer\n",
        "step_3.check()"
      ],
      "metadata": {
        "execution": {
          "iopub.status.busy": "2024-09-28T16:47:31.133771Z",
          "iopub.execute_input": "2024-09-28T16:47:31.134173Z",
          "iopub.status.idle": "2024-09-28T16:47:31.143167Z",
          "shell.execute_reply.started": "2024-09-28T16:47:31.134139Z",
          "shell.execute_reply": "2024-09-28T16:47:31.141904Z"
        },
        "trusted": true,
        "id": "dC2er8ifUz-g"
      },
      "execution_count": null,
      "outputs": []
    },
    {
      "cell_type": "code",
      "source": [
        "# Lines below will give you a hint or solution code\n",
        "#step_3.hint()\n",
        "#step_3.solution()"
      ],
      "metadata": {
        "id": "pLl0oxG1Uz-g"
      },
      "execution_count": null,
      "outputs": []
    },
    {
      "cell_type": "markdown",
      "source": [
        "In this exercise, you have explored one method for choosing appropriate parameters in a machine learning model.  \n",
        "\n",
        "If you'd like to learn more about [hyperparameter optimization](https://en.wikipedia.org/wiki/Hyperparameter_optimization), you're encouraged to start with **grid search**, which is a straightforward method for determining the best _combination_ of parameters for a machine learning model.  Thankfully, scikit-learn also contains a built-in function [`GridSearchCV()`](https://scikit-learn.org/stable/modules/generated/sklearn.model_selection.GridSearchCV.html) that can make your grid search code very efficient!\n",
        "\n",
        "# Keep going\n",
        "\n",
        "Continue to learn about **[gradient boosting](https://www.kaggle.com/alexisbcook/xgboost)**, a powerful technique that achieves state-of-the-art results on a variety of datasets."
      ],
      "metadata": {
        "id": "z5VBNl6NUz-g"
      }
    },
    {
      "cell_type": "markdown",
      "source": [
        "---\n",
        "\n",
        "\n",
        "\n",
        "\n",
        "*Have questions or comments? Visit the [course discussion forum](https://www.kaggle.com/learn/intermediate-machine-learning/discussion) to chat with other learners.*"
      ],
      "metadata": {
        "id": "v3mJGp--Uz-h"
      }
    }
  ]
}